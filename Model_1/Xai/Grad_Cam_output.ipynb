{
 "cells": [
  {
   "cell_type": "markdown",
   "id": "f6d652d9",
   "metadata": {
    "papermill": {
     "duration": 0.012197,
     "end_time": "2025-06-02T19:12:37.537735",
     "exception": false,
     "start_time": "2025-06-02T19:12:37.525538",
     "status": "completed"
    },
    "tags": []
   },
   "source": [
    "# Xai _ Grad-Cam (TF)"
   ]
  },
  {
   "cell_type": "code",
   "execution_count": 1,
   "id": "5fbbb18f",
   "metadata": {
    "execution": {
     "iopub.execute_input": "2025-06-02T19:12:37.562433Z",
     "iopub.status.busy": "2025-06-02T19:12:37.561367Z",
     "iopub.status.idle": "2025-06-02T19:12:45.685733Z",
     "shell.execute_reply": "2025-06-02T19:12:45.684497Z"
    },
    "papermill": {
     "duration": 8.139011,
     "end_time": "2025-06-02T19:12:45.688052",
     "exception": false,
     "start_time": "2025-06-02T19:12:37.549041",
     "status": "completed"
    },
    "tags": []
   },
   "outputs": [
    {
     "name": "stderr",
     "output_type": "stream",
     "text": [
      "2025-06-02 21:12:38.097018: I tensorflow/core/util/port.cc:110] oneDNN custom operations are on. You may see slightly different numerical results due to floating-point round-off errors from different computation orders. To turn them off, set the environment variable `TF_ENABLE_ONEDNN_OPTS=0`.\n",
      "2025-06-02 21:12:38.131258: I tensorflow/core/platform/cpu_feature_guard.cc:182] This TensorFlow binary is optimized to use available CPU instructions in performance-critical operations.\n",
      "To enable the following instructions: AVX2 AVX512F AVX512_VNNI FMA, in other operations, rebuild TensorFlow with the appropriate compiler flags.\n"
     ]
    }
   ],
   "source": [
    "import sys\n",
    "sys.path.append('/usr/users/pred_lung_cancer/piquet_con/Project-lung-cancer/src/Segmentation')\n",
    "from TheDuneAI import ContourPilot as cp\n",
    "import tensorflow as tf\n",
    "import numpy as np\n",
    "from tensorflow.keras.models import Model\n",
    "import matplotlib.pyplot as plt\n",
    "%matplotlib inline\n",
    "from tqdm import tqdm\n",
    "import cv2\n",
    "\n",
    "# Imports for Xplique\n",
    "import requests\n",
    "from PIL import Image\n",
    "\n",
    "BATCH_SIZE = 8\n",
    "\n",
    "# Choix automatique du device (GPU si dispo, sinon CPU)\n",
    "physical_devices = tf.config.list_physical_devices('GPU')\n",
    "if physical_devices:\n",
    "    tf.config.experimental.set_memory_growth(physical_devices[0], True)\n",
    "    device = \"/GPU:0\"\n",
    "else:\n",
    "    device = \"/CPU:0\"\n",
    "import xplique\n"
   ]
  },
  {
   "cell_type": "markdown",
   "id": "e6b8cf39",
   "metadata": {
    "papermill": {
     "duration": 0.010672,
     "end_time": "2025-06-02T19:12:45.714693",
     "exception": false,
     "start_time": "2025-06-02T19:12:45.704021",
     "status": "completed"
    },
    "tags": []
   },
   "source": [
    "# Visualize the data for one patient"
   ]
  },
  {
   "cell_type": "code",
   "execution_count": 2,
   "id": "eda1150f",
   "metadata": {
    "execution": {
     "iopub.execute_input": "2025-06-02T19:12:45.740204Z",
     "iopub.status.busy": "2025-06-02T19:12:45.739277Z",
     "iopub.status.idle": "2025-06-02T19:12:45.746357Z",
     "shell.execute_reply": "2025-06-02T19:12:45.745029Z"
    },
    "papermill": {
     "duration": 0.022639,
     "end_time": "2025-06-02T19:12:45.748697",
     "exception": false,
     "start_time": "2025-06-02T19:12:45.726058",
     "status": "completed"
    },
    "tags": []
   },
   "outputs": [],
   "source": [
    "model_path = '/usr/users/pred_lung_cancer/piquet_con/Project-lung-cancer/src/Segmentation/model_files'\n",
    "path_to_test_data = '/mounts/Datasets4/pred_lung_cancer/NIH dataset_raw/NRRD/converted_nrrds/'\n",
    "save_path = '/mounts/Datasets4/pred_lung_cancer/NIH dataset_raw/Processed'"
   ]
  },
  {
   "cell_type": "code",
   "execution_count": 3,
   "id": "cf4351f5",
   "metadata": {
    "execution": {
     "iopub.execute_input": "2025-06-02T19:12:45.774006Z",
     "iopub.status.busy": "2025-06-02T19:12:45.773144Z",
     "iopub.status.idle": "2025-06-02T19:12:47.393348Z",
     "shell.execute_reply": "2025-06-02T19:12:47.392110Z"
    },
    "papermill": {
     "duration": 1.635349,
     "end_time": "2025-06-02T19:12:47.395507",
     "exception": false,
     "start_time": "2025-06-02T19:12:45.760158",
     "status": "completed"
    },
    "tags": []
   },
   "outputs": [
    {
     "name": "stderr",
     "output_type": "stream",
     "text": [
      "2025-06-02 21:12:46.790487: I tensorflow/core/common_runtime/gpu/gpu_device.cc:1639] Created device /job:localhost/replica:0/task:0/device:GPU:0 with 8181 MB memory:  -> device: 0, name: NVIDIA GeForce RTX 3080, pci bus id: 0000:17:00.0, compute capability: 8.6\n"
     ]
    },
    {
     "name": "stderr",
     "output_type": "stream",
     "text": [
      "\r",
      "  0%|          | 0/299 [00:00<?, ?it/s]"
     ]
    },
    {
     "name": "stderr",
     "output_type": "stream",
     "text": [
      "\r",
      "100%|██████████| 299/299 [00:00<00:00, 3333.20it/s]"
     ]
    },
    {
     "name": "stdout",
     "output_type": "stream",
     "text": [
      "299  Patients found\n",
      "Epoch end\n",
      "------- Loading patients in predict mode -------\n",
      "0 input_1 InputLayer\n",
      "1 conv2d_1 Conv2D\n",
      "2 conv2d_2 Conv2D\n",
      "3 max_pooling2d_1 MaxPooling2D\n",
      "4 conv2d_3 Conv2D\n",
      "5 conv2d_4 Conv2D\n",
      "6 max_pooling2d_2 MaxPooling2D\n",
      "7 conv2d_5 Conv2D\n",
      "8 conv2d_6 Conv2D\n",
      "9 max_pooling2d_3 MaxPooling2D\n",
      "10 conv2d_7 Conv2D\n",
      "11 conv2d_8 Conv2D\n",
      "12 dropout_1 Dropout\n",
      "13 max_pooling2d_4 MaxPooling2D\n",
      "14 conv2d_9 Conv2D\n",
      "15 conv2d_10 Conv2D\n",
      "16 dropout_2 Dropout\n",
      "17 up_sampling2d_1 UpSampling2D\n",
      "18 conv2d_11 Conv2D\n",
      "19 concatenate_1 Concatenate\n",
      "20 conv2d_12 Conv2D\n",
      "21 conv2d_13 Conv2D\n",
      "22 up_sampling2d_2 UpSampling2D\n",
      "23 conv2d_14 Conv2D\n",
      "24 concatenate_2 Concatenate\n",
      "25 conv2d_15 Conv2D\n",
      "26 conv2d_16 Conv2D\n",
      "27 up_sampling2d_3 UpSampling2D\n",
      "28 conv2d_17 Conv2D\n",
      "29 concatenate_3 Concatenate\n",
      "30 conv2d_18 Conv2D\n",
      "31 conv2d_19 Conv2D\n",
      "32 up_sampling2d_4 UpSampling2D\n",
      "33 conv2d_20 Conv2D\n",
      "34 concatenate_4 Concatenate\n",
      "35 conv2d_21 Conv2D\n",
      "36 conv2d_22 Conv2D\n",
      "37 conv2d_23 Conv2D\n",
      "38 conv2d_24 Conv2D\n"
     ]
    },
    {
     "name": "stderr",
     "output_type": "stream",
     "text": [
      "\n"
     ]
    }
   ],
   "source": [
    "model = cp(model_path,path_to_test_data,save_path,verbosity=True)\n",
    "for i, layer in enumerate(model.model1.layers):\n",
    "        print(i, layer.name, layer.__class__.__name__)\n"
   ]
  },
  {
   "cell_type": "code",
   "execution_count": 4,
   "id": "bfaed4f7",
   "metadata": {
    "execution": {
     "iopub.execute_input": "2025-06-02T19:12:47.422385Z",
     "iopub.status.busy": "2025-06-02T19:12:47.421549Z",
     "iopub.status.idle": "2025-06-02T19:12:53.035826Z",
     "shell.execute_reply": "2025-06-02T19:12:53.035073Z"
    },
    "papermill": {
     "duration": 5.629083,
     "end_time": "2025-06-02T19:12:53.037785",
     "exception": false,
     "start_time": "2025-06-02T19:12:47.408702",
     "status": "completed"
    },
    "tags": []
   },
   "outputs": [
    {
     "name": "stderr",
     "output_type": "stream",
     "text": [
      "\r",
      "Progress:   0%|          | 0/299 [00:00<?, ?it/s]"
     ]
    },
    {
     "name": "stdout",
     "output_type": "stream",
     "text": [
      "(46, 512, 512)\n"
     ]
    },
    {
     "name": "stdout",
     "output_type": "stream",
     "text": [
      "Window limits  -1000 150.0\n"
     ]
    },
    {
     "name": "stdout",
     "output_type": "stream",
     "text": [
      "Amount of unique values, original img:  1151 resampled img:  46\n",
      "(1, 36, 512, 512)\n",
      "Image shape: (1, 36, 512, 512)\n",
      "Image shape after squeeze: (36, 512, 512)\n",
      "Middle slice index: 18\n"
     ]
    },
    {
     "name": "stderr",
     "output_type": "stream",
     "text": [
      "2025-06-02 21:12:51.021997: I tensorflow/compiler/xla/stream_executor/cuda/cuda_dnn.cc:432] Loaded cuDNN version 8907\n",
      "2025-06-02 21:12:51.095103: I tensorflow/tsl/platform/default/subprocess.cc:304] Start cannot spawn child process: No such file or directory\n"
     ]
    },
    {
     "name": "stdout",
     "output_type": "stream",
     "text": [
      "\r",
      " 1/36 [..............................] - ETA: 45s"
     ]
    },
    {
     "name": "stdout",
     "output_type": "stream",
     "text": [
      "\b\b\b\b\b\b\b\b\b\b\b\b\b\b\b\b\b\b\b\b\b\b\b\b\b\b\b\b\b\b\b\b\b\b\b\b\b\b\b\b\b\b\b\b\b\b\b\b\b\r",
      " 4/36 [==>...........................] - ETA: 0s "
     ]
    },
    {
     "name": "stdout",
     "output_type": "stream",
     "text": [
      "\b\b\b\b\b\b\b\b\b\b\b\b\b\b\b\b\b\b\b\b\b\b\b\b\b\b\b\b\b\b\b\b\b\b\b\b\b\b\b\b\b\b\b\b\b\b\b\b\r",
      " 6/36 [====>.........................] - ETA: 0s"
     ]
    },
    {
     "name": "stdout",
     "output_type": "stream",
     "text": [
      "\b\b\b\b\b\b\b\b\b\b\b\b\b\b\b\b\b\b\b\b\b\b\b\b\b\b\b\b\b\b\b\b\b\b\b\b\b\b\b\b\b\b\b\b\b\b\b\b\r",
      " 8/36 [=====>........................] - ETA: 0s"
     ]
    },
    {
     "name": "stderr",
     "output_type": "stream",
     "text": [
      "2025-06-02 21:12:52.093129: I tensorflow/compiler/xla/stream_executor/cuda/cuda_blas.cc:606] TensorFloat-32 will be used for the matrix multiplication. This will only be logged once.\n"
     ]
    },
    {
     "name": "stdout",
     "output_type": "stream",
     "text": [
      "\b\b\b\b\b\b\b\b\b\b\b\b\b\b\b\b\b\b\b\b\b\b\b\b\b\b\b\b\b\b\b\b\b\b\b\b\b\b\b\b\b\b\b\b\b\b\b\b\r",
      "10/36 [=======>......................] - ETA: 0s"
     ]
    },
    {
     "name": "stdout",
     "output_type": "stream",
     "text": [
      "\b\b\b\b\b\b\b\b\b\b\b\b\b\b\b\b\b\b\b\b\b\b\b\b\b\b\b\b\b\b\b\b\b\b\b\b\b\b\b\b\b\b\b\b\b\b\b\b\r",
      "12/36 [=========>....................] - ETA: 0s"
     ]
    },
    {
     "name": "stdout",
     "output_type": "stream",
     "text": [
      "\b\b\b\b\b\b\b\b\b\b\b\b\b\b\b\b\b\b\b\b\b\b\b\b\b\b\b\b\b\b\b\b\b\b\b\b\b\b\b\b\b\b\b\b\b\b\b\b\r",
      "14/36 [==========>...................] - ETA: 0s"
     ]
    },
    {
     "name": "stdout",
     "output_type": "stream",
     "text": [
      "\b\b\b\b\b\b\b\b\b\b\b\b\b\b\b\b\b\b\b\b\b\b\b\b\b\b\b\b\b\b\b\b\b\b\b\b\b\b\b\b\b\b\b\b\b\b\b\b\r",
      "16/36 [============>.................] - ETA: 0s"
     ]
    },
    {
     "name": "stdout",
     "output_type": "stream",
     "text": [
      "\b\b\b\b\b\b\b\b\b\b\b\b\b\b\b\b\b\b\b\b\b\b\b\b\b\b\b\b\b\b\b\b\b\b\b\b\b\b\b\b\b\b\b\b\b\b\b\b\r",
      "18/36 [==============>...............] - ETA: 0s"
     ]
    },
    {
     "name": "stdout",
     "output_type": "stream",
     "text": [
      "\b\b\b\b\b\b\b\b\b\b\b\b\b\b\b\b\b\b\b\b\b\b\b\b\b\b\b\b\b\b\b\b\b\b\b\b\b\b\b\b\b\b\b\b\b\b\b\b\r",
      "20/36 [===============>..............] - ETA: 0s"
     ]
    },
    {
     "name": "stdout",
     "output_type": "stream",
     "text": [
      "\b\b\b\b\b\b\b\b\b\b\b\b\b\b\b\b\b\b\b\b\b\b\b\b\b\b\b\b\b\b\b\b\b\b\b\b\b\b\b\b\b\b\b\b\b\b\b\b\r",
      "22/36 [=================>............] - ETA: 0s"
     ]
    },
    {
     "name": "stdout",
     "output_type": "stream",
     "text": [
      "\b\b\b\b\b\b\b\b\b\b\b\b\b\b\b\b\b\b\b\b\b\b\b\b\b\b\b\b\b\b\b\b\b\b\b\b\b\b\b\b\b\b\b\b\b\b\b\b\r",
      "24/36 [===================>..........] - ETA: 0s"
     ]
    },
    {
     "name": "stdout",
     "output_type": "stream",
     "text": [
      "\b\b\b\b\b\b\b\b\b\b\b\b\b\b\b\b\b\b\b\b\b\b\b\b\b\b\b\b\b\b\b\b\b\b\b\b\b\b\b\b\b\b\b\b\b\b\b\b\r",
      "26/36 [====================>.........] - ETA: 0s"
     ]
    },
    {
     "name": "stdout",
     "output_type": "stream",
     "text": [
      "\b\b\b\b\b\b\b\b\b\b\b\b\b\b\b\b\b\b\b\b\b\b\b\b\b\b\b\b\b\b\b\b\b\b\b\b\b\b\b\b\b\b\b\b\b\b\b\b\r",
      "28/36 [======================>.......] - ETA: 0s"
     ]
    },
    {
     "name": "stdout",
     "output_type": "stream",
     "text": [
      "\b\b\b\b\b\b\b\b\b\b\b\b\b\b\b\b\b\b\b\b\b\b\b\b\b\b\b\b\b\b\b\b\b\b\b\b\b\b\b\b\b\b\b\b\b\b\b\b\r",
      "30/36 [========================>.....] - ETA: 0s"
     ]
    },
    {
     "name": "stdout",
     "output_type": "stream",
     "text": [
      "\b\b\b\b\b\b\b\b\b\b\b\b\b\b\b\b\b\b\b\b\b\b\b\b\b\b\b\b\b\b\b\b\b\b\b\b\b\b\b\b\b\b\b\b\b\b\b\b\r",
      "32/36 [=========================>....] - ETA: 0s"
     ]
    },
    {
     "name": "stdout",
     "output_type": "stream",
     "text": [
      "\b\b\b\b\b\b\b\b\b\b\b\b\b\b\b\b\b\b\b\b\b\b\b\b\b\b\b\b\b\b\b\b\b\b\b\b\b\b\b\b\b\b\b\b\b\b\b\b\r",
      "34/36 [===========================>..] - ETA: 0s"
     ]
    },
    {
     "name": "stdout",
     "output_type": "stream",
     "text": [
      "\b\b\b\b\b\b\b\b\b\b\b\b\b\b\b\b\b\b\b\b\b\b\b\b\b\b\b\b\b\b\b\b\b\b\b\b\b\b\b\b\b\b\b\b\b\b\b\b\r",
      "36/36 [==============================] - ETA: 0s"
     ]
    },
    {
     "name": "stdout",
     "output_type": "stream",
     "text": [
      "\b\b\b\b\b\b\b\b\b\b\b\b\b\b\b\b\b\b\b\b\b\b\b\b\b\b\b\b\b\b\b\b\b\b\b\b\b\b\b\b\b\b\b\b\b\b\b\b\r",
      "36/36 [==============================] - 2s 25ms/step\n"
     ]
    }
   ],
   "source": [
    "gen_with_progress = tqdm(model.Patients_gen, desc='Progress')\n",
    "gen_iterator = iter(gen_with_progress)  # <-- transformer en itérateur\n",
    "img, _, filename, params = next(gen_iterator)\n",
    "print(img.shape) \n",
    "\n",
    "# Select the middle slice of the 3D image\n",
    "print(f\"Image shape: {img.shape}\") \n",
    "img=img.squeeze()  \n",
    "print(f\"Image shape after squeeze: {img.shape}\") \n",
    "# --- Select the middle slice ---\n",
    "middle_index = img.shape[0] // 2\n",
    "print(f\"Middle slice index: {middle_index}\")\n",
    "middle_slice = img[middle_index, :, :]  # shape: (512, 512)\n",
    "\n",
    "mask = model.model1.predict(img, batch_size=1, verbose=1)\n"
   ]
  },
  {
   "cell_type": "code",
   "execution_count": 5,
   "id": "1cc6b35d",
   "metadata": {
    "execution": {
     "iopub.execute_input": "2025-06-02T19:12:53.069786Z",
     "iopub.status.busy": "2025-06-02T19:12:53.068841Z",
     "iopub.status.idle": "2025-06-02T19:12:53.254650Z",
     "shell.execute_reply": "2025-06-02T19:12:53.253946Z"
    },
    "papermill": {
     "duration": 0.204114,
     "end_time": "2025-06-02T19:12:53.257483",
     "exception": false,
     "start_time": "2025-06-02T19:12:53.053369",
     "status": "completed"
    },
    "tags": []
   },
   "outputs": [
    {
     "data": {
      "image/png": "[encoded data removed]",
      "text/plain": [
       "<Figure size 640x480 with 2 Axes>"
      ]
     },
     "metadata": {},
     "output_type": "display_data"
    }
   ],
   "source": [
    "# Image brute\n",
    "plt.subplot(1, 2, 1)\n",
    "plt.imshow(img[middle_index], cmap='gray')\n",
    "plt.title(f\"Image - Slice {middle_index}\")\n",
    "plt.axis(\"off\")\n",
    "\n",
    "# Image + masque superposé\n",
    "plt.subplot(1, 2, 2)\n",
    "plt.imshow(img[middle_index], cmap='gray')\n",
    "plt.imshow(mask[middle_index], cmap='Reds', alpha=0.5)  # alpha pour transparence\n",
    "plt.title(\"Image + Masque\")\n",
    "plt.axis(\"off\")\n",
    "\n",
    "plt.tight_layout()\n",
    "plt.show()"
   ]
  },
  {
   "cell_type": "markdown",
   "id": "86e70402",
   "metadata": {
    "papermill": {
     "duration": 0.010733,
     "end_time": "2025-06-02T19:12:53.287025",
     "exception": false,
     "start_time": "2025-06-02T19:12:53.276292",
     "status": "completed"
    },
    "tags": []
   },
   "source": [
    "# Grad-cam (basic version)"
   ]
  },
  {
   "cell_type": "code",
   "execution_count": 6,
   "id": "cadf8e43",
   "metadata": {
    "execution": {
     "iopub.execute_input": "2025-06-02T19:12:53.309834Z",
     "iopub.status.busy": "2025-06-02T19:12:53.308748Z",
     "iopub.status.idle": "2025-06-02T19:12:53.325000Z",
     "shell.execute_reply": "2025-06-02T19:12:53.323762Z"
    },
    "papermill": {
     "duration": 0.028702,
     "end_time": "2025-06-02T19:12:53.326118",
     "exception": false,
     "start_time": "2025-06-02T19:12:53.297416",
     "status": "completed"
    },
    "tags": []
   },
   "outputs": [],
   "source": [
    "def compute_gradcam(model, image, target_layer_name):\n",
    "    grad_model = tf.keras.models.Model(\n",
    "        [model.input],\n",
    "        [model.get_layer(target_layer_name).output, model.output]\n",
    "    )\n",
    "\n",
    "    with tf.GradientTape() as tape:\n",
    "        conv_outputs, predictions = grad_model(np.expand_dims(image, axis=0))\n",
    "        # Use mean prediction over the output map for loss\n",
    "        loss = tf.reduce_mean(predictions)\n",
    "\n",
    "    grads = tape.gradient(loss, conv_outputs)[0]\n",
    "    conv_outputs = conv_outputs[0]\n",
    "\n",
    "    weights = tf.reduce_mean(grads, axis=(0, 1))\n",
    "    cam = np.zeros(conv_outputs.shape[:2], dtype=np.float32)\n",
    "\n",
    "    for i, w in enumerate(weights):\n",
    "        cam += w * conv_outputs[:, :, i]\n",
    "\n",
    "    cam = np.maximum(cam, 0)\n",
    "    cam = cam / (np.max(cam) + 1e-8)\n",
    "    cam = cv2.resize(cam, (image.shape[1], image.shape[0]))\n",
    "    \n",
    "    return cam\n",
    "\n",
    "def show_gradcam_overlay(image, cam, alpha=0.4):\n",
    "    heatmap = cv2.applyColorMap(np.uint8(255 * cam), cv2.COLORMAP_JET)\n",
    "    # Convert grayscale to BGR (3 channels)\n",
    "    if len(image.shape) == 2:\n",
    "        image_color = cv2.cvtColor(np.uint8(image * 255), cv2.COLOR_GRAY2BGR)\n",
    "    else:\n",
    "        image_color = np.uint8(image * 255)\n",
    "    overlay = cv2.addWeighted(image_color, 1-alpha, heatmap, alpha, 0)\n",
    "    plt.figure(figsize=(6,6))\n",
    "    plt.imshow(overlay)\n",
    "    plt.axis('off')\n",
    "    plt.title(\"Grad-CAM Overlay\")\n",
    "    plt.show()\n"
   ]
  },
  {
   "cell_type": "code",
   "execution_count": 7,
   "id": "60ae0ffa",
   "metadata": {
    "execution": {
     "iopub.execute_input": "2025-06-02T19:12:53.349856Z",
     "iopub.status.busy": "2025-06-02T19:12:53.349402Z",
     "iopub.status.idle": "2025-06-02T19:12:57.612176Z",
     "shell.execute_reply": "2025-06-02T19:12:57.611776Z"
    },
    "papermill": {
     "duration": 4.274611,
     "end_time": "2025-06-02T19:12:57.612862",
     "exception": false,
     "start_time": "2025-06-02T19:12:53.338251",
     "status": "completed"
    },
    "tags": []
   },
   "outputs": [
    {
     "name": "stdout",
     "output_type": "stream",
     "text": [
      "Middle slice shape: (512, 512)\n"
     ]
    },
    {
     "data": {
      "image/png": "[encoded data removed]",
      "text/plain": [
       "<Figure size 600x600 with 1 Axes>"
      ]
     },
     "metadata": {},
     "output_type": "display_data"
    }
   ],
   "source": [
    "print(f\"Middle slice shape: {middle_slice.shape}\")\n",
    "# --- Prepare the slice for the model ---\n",
    "input_slice = middle_slice.reshape(512, 512, 1).astype(np.float32)\n",
    "\n",
    "# --- Compute Grad-CAM ---\n",
    "cam = compute_gradcam(model.model1, input_slice, target_layer_name=\"conv2d_23\")\n",
    "\n",
    "# --- Visualize overlay ---\n",
    "show_gradcam_overlay(input_slice.squeeze(), cam)"
   ]
  },
  {
   "cell_type": "markdown",
   "id": "615cbb8c",
   "metadata": {
    "papermill": {
     "duration": 0.010411,
     "end_time": "2025-06-02T19:12:57.635682",
     "exception": false,
     "start_time": "2025-06-02T19:12:57.625271",
     "status": "completed"
    },
    "tags": []
   },
   "source": [
    "# Xplique "
   ]
  },
  {
   "cell_type": "code",
   "execution_count": 8,
   "id": "f94395b7",
   "metadata": {
    "execution": {
     "iopub.execute_input": "2025-06-02T19:12:57.659516Z",
     "iopub.status.busy": "2025-06-02T19:12:57.658915Z"
    },
    "papermill": {
     "duration": null,
     "end_time": null,
     "exception": false,
     "start_time": "2025-06-02T19:12:57.646588",
     "status": "running"
    },
    "tags": []
   },
   "outputs": [
    {
     "name": "stdout",
     "output_type": "stream",
     "text": [
      "HsicAttributionMethod\n",
      "img shape: (36, 512, 512, 1)\n",
      "mask shape: (36, 512, 512, 1)\n"
     ]
    },
    {
     "name": "stderr",
     "output_type": "stream",
     "text": [
      "2025-06-02 21:13:39.836823: W tensorflow/tsl/framework/bfc_allocator.cc:366] Garbage collection: deallocate free memory regions (i.e., allocations) so that we can re-allocate a larger region to avoid OOM due to memory fragmentation. If you see this message frequently, you are running near the threshold of the available device memory and re-allocation may incur great performance overhead. You may try smaller batch sizes to observe the performance impact. Set TF_ENABLE_GPU_GARBAGE_COLLECTION=false if you'd like to disable this feature.\n"
     ]
    }
   ],
   "source": [
    "from xplique.attributions import (Saliency, GradientInput, IntegratedGradients, SmoothGrad, VarGrad, SquareGrad,\n",
    "                                  Occlusion, Rise, SobolAttributionMethod, HsicAttributionMethod)\n",
    "\n",
    "from xplique.plots import plot_attributions\n",
    "\n",
    "img_tf = tf.convert_to_tensor(img, dtype=tf.float32)\n",
    "img_tf = tf.expand_dims(img_tf, axis=-1)  # Now shape is [38, 512, 512, 1]\n",
    "mask_tf = tf.convert_to_tensor(mask, dtype=tf.float32)\n",
    "mask_alpha = 0.5\n",
    "images_with_masks = (1 - mask_alpha) * img_tf + mask_alpha * mask_tf\n",
    "\n",
    "explainers = {\n",
    "    #Saliency: {},\n",
    "    #GradientInput: {},\n",
    "    #IntegratedGradients: {\"steps\": 20},\n",
    "    #SmoothGrad: {\"nb_samples\": 50, \"noise\": 0.75},\n",
    "    #VarGrad: {\"nb_samples\": 50, \"noise\": 0.75},\n",
    "    #SquareGrad: {\"nb_samples\": 100, \"noise\": 0.5},\n",
    "    #Occlusion: {\"patch_size\": 40, \"patch_stride\": 10, \"occlusion_value\": 0}, -> to long to run\n",
    "    #Rise: {\"nb_samples\": 4000, \"grid_size\": 13}, -> to long to run\n",
    "    #SobolAttributionMethod: {\"nb_design\": 32, \"grid_size\": 13},\n",
    "    HsicAttributionMethod: {\"nb_design\": 1500, \"grid_size\": 13}\n",
    "}\n",
    "\n",
    "explanations = {}\n",
    "for explainer_class, params in explainers.items():\n",
    "    print(explainer_class.__name__)\n",
    "\n",
    "    # instanciate explainer\n",
    "    explainer = explainer_class(model.model1, operator=xplique.Tasks.SEMANTIC_SEGMENTATION,\n",
    "                                batch_size=1, **params)\n",
    "\n",
    "    print(\"img shape:\", img_tf.shape)\n",
    "    print(\"mask shape:\", mask_tf.shape)\n",
    "    # compute explanations\n",
    "    explanation = explainer(img_tf, mask_tf)\n",
    "\n",
    "    # show explanations for a method\n",
    "    plot_attributions(explanation, images_with_masks,\n",
    "                      img_size=4., cols=img_tf.shape[0],\n",
    "                      cmap='jet', alpha=0.3, absolute_value=False, clip_percentile=0.5)\n",
    "    plt.show()\n",
    "\n",
    "    # keep explanations in memory for metrics\n",
    "    explanations[explainer_class.__name__] = explanation"
   ]
  },
  {
   "cell_type": "code",
   "execution_count": null,
   "id": "7bbbddeb",
   "metadata": {
    "papermill": {
     "duration": null,
     "end_time": null,
     "exception": null,
     "start_time": null,
     "status": "pending"
    },
    "tags": []
   },
   "outputs": [],
   "source": [
    "from xplique.metrics import Deletion, MuFidelity, Insertion, AverageStability\n",
    "from xplique.plots.metrics import barplot\n",
    "\n",
    "metrics = {}\n",
    "\n",
    "# -------------------- MuFidelity's nb_samples was reduced for memory needs\n",
    "# explanations metrics\n",
    "explanations_metrics = {\n",
    "    Deletion: {\"baseline_mode\": 0, \"steps\": 10, \"max_percentage_perturbed\": 0.5},\n",
    "    MuFidelity: {\"baseline_mode\": 0, \"nb_samples\": 5, \"subset_percent\":0.2, \"grid_size\": 13},\n",
    "    Insertion: {\"baseline_mode\": 0, \"steps\": 10, \"max_percentage_perturbed\": 0.5}\n",
    "}\n",
    "for metric_class, params in explanations_metrics.items():\n",
    "    # instanciate the metric\n",
    "    metric = metric_class(model.model1, np.array(img_tf[:3]), np.array(mask_tf[:3]),\n",
    "                          operator=xplique.Tasks.SEMANTIC_SEGMENTATION,\n",
    "                          activation=\"softmax\", batch_size=BATCH_SIZE, **params)\n",
    "\n",
    "    # iterate on methods explanations\n",
    "    metrics[metric_class.__name__] = {}\n",
    "    for method, explanation in explanations.items():\n",
    "        metrics[metric_class.__name__][method] = metric(explanation[:3])\n",
    "\n",
    "# # ----------------- Not included for computation cost reason\n",
    "# explainer metrics\n",
    "    metric = AverageStability(model.model1, img_tf[:3], mask_tf[:3], batch_size=BATCH_SIZE,\n",
    "                           nb_samples=20, radius=0.1, distance=\"l2\")\n",
    "    metrics[\"AverageStability\"] = {}\n",
    "     # instanciate explainer\n",
    "    explainer = explainer_class(model.model1, operator=xplique.Tasks.SEMANTIC_SEGMENTATION,\n",
    "                                 batch_size=BATCH_SIZE, **params)\n",
    "\n",
    "    metrics[\"AverageStability\"][explainer_class.__name__] = metric.evaluate(explainer)\n",
    "\n",
    "barplot(metrics, sort_metric=\"Deletion\", ascending=\"True\")\n",
    "plt.show()"
   ]
  }
 ],
 "metadata": {
  "kernelspec": {
   "display_name": "lung_env",
   "language": "python",
   "name": "python3"
  },
  "language_info": {
   "codemirror_mode": {
    "name": "ipython",
    "version": 3
   },
   "file_extension": ".py",
   "mimetype": "text/x-python",
   "name": "python",
   "nbconvert_exporter": "python",
   "pygments_lexer": "ipython3",
   "version": "3.10.16"
  },
  "papermill": {
   "default_parameters": {},
   "duration": null,
   "end_time": null,
   "environment_variables": {},
   "exception": null,
   "input_path": "/usr/users/pred_lung_cancer/piquet_con/Project-lung-cancer/src/Xai/Grad_Cam.ipynb",
   "output_path": "/usr/users/pred_lung_cancer/piquet_con/Project-lung-cancer/src/Xai/Grad_Cam_output.ipynb",
   "parameters": {},
   "start_time": "2025-06-02T19:12:35.798631",
   "version": "2.6.0"
  }
 },
 "nbformat": 4,
 "nbformat_minor": 5
}