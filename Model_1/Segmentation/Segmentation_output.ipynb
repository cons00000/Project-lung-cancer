{
 "cells": [
  {
   "cell_type": "markdown",
   "id": "79438488",
   "metadata": {
    "tags": [
     "papermill-error-cell-tag"
    ]
   },
   "source": [
    "<span style=\"color:red; font-family:Helvetica Neue, Helvetica, Arial, sans-serif; font-size:2em;\">An Exception was encountered at '<a href=\"#papermill-error-cell\">In [1]</a>'.</span>"
   ]
  },
  {
   "cell_type": "markdown",
   "id": "04c099ff",
   "metadata": {
    "papermill": {
     "duration": 0.010191,
     "end_time": "2025-06-02T19:12:02.510988",
     "exception": false,
     "start_time": "2025-06-02T19:12:02.500797",
     "status": "completed"
    },
    "tags": []
   },
   "source": [
    "## Automatic segmentation"
   ]
  },
  {
   "cell_type": "markdown",
   "id": "906c89ba",
   "metadata": {
    "tags": [
     "papermill-error-cell-tag"
    ]
   },
   "source": [
    "<span id=\"papermill-error-cell\" style=\"color:red; font-family:Helvetica Neue, Helvetica, Arial, sans-serif; font-size:2em;\">Execution using papermill encountered an exception here and stopped:</span>"
   ]
  },
  {
   "cell_type": "code",
   "execution_count": 1,
   "id": "324603d8",
   "metadata": {
    "execution": {
     "iopub.execute_input": "2025-06-02T19:12:02.530930Z",
     "iopub.status.busy": "2025-06-02T19:12:02.529662Z",
     "iopub.status.idle": "2025-06-02T19:12:12.340943Z",
     "shell.execute_reply": "2025-06-02T19:12:12.339189Z"
    },
    "papermill": {
     "duration": 9.822213,
     "end_time": "2025-06-02T19:12:12.342087",
     "exception": true,
     "start_time": "2025-06-02T19:12:02.519874",
     "status": "failed"
    },
    "tags": []
   },
   "outputs": [
    {
     "name": "stderr",
     "output_type": "stream",
     "text": [
      "2025-06-02 21:12:03.036838: I tensorflow/core/util/port.cc:110] oneDNN custom operations are on. You may see slightly different numerical results due to floating-point round-off errors from different computation orders. To turn them off, set the environment variable `TF_ENABLE_ONEDNN_OPTS=0`.\n",
      "2025-06-02 21:12:03.339263: I tensorflow/core/platform/cpu_feature_guard.cc:182] This TensorFlow binary is optimized to use available CPU instructions in performance-critical operations.\n",
      "To enable the following instructions: AVX2 AVX512F AVX512_VNNI FMA, in other operations, rebuild TensorFlow with the appropriate compiler flags.\n"
     ]
    },
    {
     "ename": "NameError",
     "evalue": "name 'tf' is not defined",
     "output_type": "error",
     "traceback": [
      "\u001b[0;31m---------------------------------------------------------------------------\u001b[0m",
      "\u001b[0;31mNameError\u001b[0m                                 Traceback (most recent call last)",
      "Cell \u001b[0;32mIn[1], line 18\u001b[0m\n\u001b[1;32m     15\u001b[0m     \u001b[38;5;66;03m#Check availableGPUs\u001b[39;00m\n\u001b[1;32m     16\u001b[0m     \u001b[38;5;28mprint\u001b[39m(K\u001b[38;5;241m.\u001b[39mtensorflow_backend\u001b[38;5;241m.\u001b[39m_get_available_gpus())\n\u001b[0;32m---> 18\u001b[0m gpus \u001b[38;5;241m=\u001b[39m \u001b[43mtf\u001b[49m\u001b[38;5;241m.\u001b[39mconfig\u001b[38;5;241m.\u001b[39mlist_physical_devices(\u001b[38;5;124m'\u001b[39m\u001b[38;5;124mGPU\u001b[39m\u001b[38;5;124m'\u001b[39m)\n\u001b[1;32m     19\u001b[0m \u001b[38;5;28;01mif\u001b[39;00m gpus:\n\u001b[1;32m     20\u001b[0m     \u001b[38;5;28;01mtry\u001b[39;00m:\n",
      "\u001b[0;31mNameError\u001b[0m: name 'tf' is not defined"
     ]
    }
   ],
   "source": [
    "###################################################################\n",
    "## Import DL packages setting up GPU if used\n",
    "import os\n",
    "# import tensorflow as tf\n",
    "import keras.backend as K\n",
    "import sys\n",
    "sys.path.append('/usr/users/pred_lung_cancer/piquet_con/Project-lung-cancer/src/Segmentation')\n",
    "from TheDuneAI import ContourPilot as cp \n",
    "\n",
    "#If you have an available GPU and tensorflow-gpu >=1.15.0, CUDA >= 10.0.130, CuDNN installed you can try setting gpu=True\n",
    "GPU_compute = False\n",
    "if GPU_compute:\n",
    "    os.environ[\"CUDA_DEVICE_ORDER\"] = \"PCI_BUS_ID\"  \n",
    "    os.environ['CUDA_VISIBLE_DEVICES']='0'          #Choose GPU device ID\n",
    "    #Check availableGPUs\n",
    "    print(K.tensorflow_backend._get_available_gpus())\n",
    "\n",
    "gpus = tf.config.list_physical_devices('GPU')\n",
    "if gpus:\n",
    "    try:\n",
    "        for gpu in gpus:\n",
    "            tf.config.experimental.set_memory_growth(gpu, True)  # évite l'allocation totale\n",
    "        print(\"[INFO] GPU memory growth activé.\")\n",
    "    except RuntimeError as e:\n",
    "        print(f\"[ERREUR] Impossible de configurer GPU: {e}\")\n",
    "\n",
    "    "
   ]
  },
  {
   "cell_type": "code",
   "execution_count": null,
   "id": "ea251a0c",
   "metadata": {
    "papermill": {
     "duration": null,
     "end_time": null,
     "exception": null,
     "start_time": null,
     "status": "pending"
    },
    "tags": []
   },
   "outputs": [],
   "source": [
    "###################################################################\n",
    "##Initialize model inputs\n",
    "\n",
    "model_path = '/usr/users/pred_lung_cancer/piquet_con/Project-lung-cancer/src/Segmentation/model_files'\n",
    "path_to_test_data = '/mounts/Datasets4/pred_lung_cancer/NIH dataset_raw/NRRD/converted_nrrds/'\n",
    "save_path = '/mounts/Datasets4/pred_lung_cancer/NIH dataset_raw/Processed'\n",
    "\n",
    "#initialize the model\n",
    "model = cp(model_path,path_to_test_data,save_path,verbosity=True)    #set verbosity =True to see what is going on\n"
   ]
  },
  {
   "cell_type": "code",
   "execution_count": null,
   "id": "d896264d",
   "metadata": {
    "papermill": {
     "duration": null,
     "end_time": null,
     "exception": null,
     "start_time": null,
     "status": "pending"
    },
    "scrolled": true,
    "tags": []
   },
   "outputs": [],
   "source": [
    "###################################################################\n",
    "## Estimated segmentation time per patient:\n",
    "##      with GPU(RTX2080TI): 2-3 sec\n",
    "##      with CPU(Core i5-7200U ): 170 -180 sec\n",
    "## Estimated processing time per patient depends on the multiple parameters such as: CPU/GPU usage, Hardware (HDD/SSD),\n",
    "## and length of the CT scan (whole body scan CT/ thorax CT) \n",
    "## The estimated processing time per pat. range is: 25 sec - 280 sec.\n",
    "###################################################################\n",
    "##Starting the segmentation process\n",
    "\n",
    "model.segment()\n",
    "\n"
   ]
  }
 ],
 "metadata": {
  "kernelspec": {
   "display_name": "lung_env",
   "language": "python",
   "name": "python3"
  },
  "language_info": {
   "codemirror_mode": {
    "name": "ipython",
    "version": 3
   },
   "file_extension": ".py",
   "mimetype": "text/x-python",
   "name": "python",
   "nbconvert_exporter": "python",
   "pygments_lexer": "ipython3",
   "version": "3.10.16"
  },
  "papermill": {
   "default_parameters": {},
   "duration": 12.968329,
   "end_time": "2025-06-02T19:12:13.372573",
   "environment_variables": {},
   "exception": true,
   "input_path": "/usr/users/pred_lung_cancer/piquet_con/Project-lung-cancer/src/Segmentation/Segmentation.ipynb",
   "output_path": "/usr/users/pred_lung_cancer/piquet_con/Project-lung-cancer/src/Segmentation/Segmentation_output.ipynb",
   "parameters": {},
   "start_time": "2025-06-02T19:12:00.404244",
   "version": "2.6.0"
  }
 },
 "nbformat": 4,
 "nbformat_minor": 5
}