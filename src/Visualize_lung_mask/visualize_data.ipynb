{
 "cells": [
  {
   "cell_type": "code",
   "execution_count": 1,
   "id": "97329c40",
   "metadata": {},
   "outputs": [
    {
     "ename": "ModuleNotFoundError",
     "evalue": "No module named 'napari'",
     "output_type": "error",
     "traceback": [
      "\u001b[0;31m---------------------------------------------------------------------------\u001b[0m",
      "\u001b[0;31mModuleNotFoundError\u001b[0m                       Traceback (most recent call last)",
      "Cell \u001b[0;32mIn[1], line 1\u001b[0m\n\u001b[0;32m----> 1\u001b[0m \u001b[38;5;28;01mimport\u001b[39;00m\u001b[38;5;250m \u001b[39m\u001b[38;5;21;01mnapari\u001b[39;00m\n\u001b[1;32m      2\u001b[0m \u001b[38;5;28;01mimport\u001b[39;00m\u001b[38;5;250m \u001b[39m\u001b[38;5;21;01mnrrd\u001b[39;00m  \u001b[38;5;66;03m# from the pynrrd package\u001b[39;00m\n\u001b[1;32m      4\u001b[0m \u001b[38;5;66;03m# Path to your files\u001b[39;00m\n",
      "\u001b[0;31mModuleNotFoundError\u001b[0m: No module named 'napari'"
     ]
    }
   ],
   "source": [
    "import napari\n",
    "import nrrd  # from the pynrrd package\n",
    "\n",
    "# Path to your files\n",
    "nrrd_file_path_image = '/Users/constance/Documents/Project_lung_cancer/NIH dataset_raw/Processed/04-04-2007-NA-Chest-07990_(DL)/image.nrrd'  # Chemin vers l'image CT\n",
    "nrrd_file_path_mask = '/Users/constance/Documents/Project_lung_cancer/NIH dataset_raw/Processed/04-04-2007-NA-Chest-07990_(DL)/DL_mask.nrrd'  # Chemin vers le masque\n",
    "\n",
    "# Lire les fichiers NRRD\n",
    "data_image, header_image = nrrd.read(nrrd_file_path_image)\n",
    "data_mask, header_mask = nrrd.read(nrrd_file_path_mask)\n",
    "\n",
    "# Lancer napari et afficher les images\n",
    "viewer = napari.Viewer()\n",
    "\n",
    "# Ajouter l'image CT (en utilisant des niveaux de gris)\n",
    "viewer.add_image(data_image, name='CT Image', blending='additive')\n",
    "\n",
    "# Ajouter le masque (en ajustant la transparence)\n",
    "viewer.add_image(data_mask, name='DL Mask', blending='additive', opacity=0.5)\n",
    "\n",
    "napari.run()\n"
   ]
  }
 ],
 "metadata": {
  "kernelspec": {
   "display_name": "lung_env",
   "language": "python",
   "name": "python3"
  },
  "language_info": {
   "codemirror_mode": {
    "name": "ipython",
    "version": 3
   },
   "file_extension": ".py",
   "mimetype": "text/x-python",
   "name": "python",
   "nbconvert_exporter": "python",
   "pygments_lexer": "ipython3",
   "version": "3.10.17"
  }
 },
 "nbformat": 4,
 "nbformat_minor": 5
}
