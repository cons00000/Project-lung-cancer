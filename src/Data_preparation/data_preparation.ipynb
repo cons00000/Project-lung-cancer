{
 "cells": [
  {
   "cell_type": "markdown",
   "id": "eae1222a",
   "metadata": {},
   "source": [
    "# From DCM to Nrrd"
   ]
  },
  {
   "cell_type": "markdown",
   "id": "74ab109a",
   "metadata": {},
   "source": [
    "3. Segment the tumors - for one subject"
   ]
  },
  {
   "cell_type": "markdown",
   "id": "3a476be6",
   "metadata": {},
   "source": [
    "bien penser à utiliser ipykernel !! ajouter une condition pour éviter les dossiers .DS_Store ? "
   ]
  },
  {
   "cell_type": "code",
   "execution_count": 20,
   "id": "ac2c22b5",
   "metadata": {},
   "outputs": [],
   "source": [
    "root1subj='/Users/constance/Documents/Project_lung_cancer/NIH dataset_raw/manifest-1608669183333/Lung-PET-CT-Dx/Lung_A_1_60/Lung_Dx-A0059'\n",
    "root1batch= '/Users/constance/Documents/Project_lung_cancer/NIH dataset_raw/manifest-1608669183333/Lung-PET-CT-Dx/Lung_A_181_240'\n",
    "DCM=[\n",
    "     '/Users/constance/Documents/Project_lung_cancer/NIH dataset_raw/manifest-1608669183333/Lung-PET-CT-Dx/Lung_G']\n",
    "root_total = '/Users/constance/Documents/Project_lung_cancer/NIH dataset_raw/manifest-1608669183333/Lung-PET-CT-Dx'"
   ]
  },
  {
   "cell_type": "code",
   "execution_count": 21,
   "id": "766c0e54",
   "metadata": {},
   "outputs": [],
   "source": [
    "from ToolBox import ToolBox\n",
    "import os\n",
    "\n",
    "model_path = '/Users/constance/Documents/Project_lung_cancer/src/Automatic_segmentation_script/model_files/'\n",
    "path_to_test_data = '/Users/constance/Documents/Project_lung_cancer/NIH dataset_raw/NRRD'\n",
    "save_path = '/Users/constance/Documents/Project_lung_cancer/NIH dataset_raw/Processed'"
   ]
  },
  {
   "cell_type": "markdown",
   "id": "4ce4837e",
   "metadata": {},
   "source": [
    "3.1) Charge an instance of the class"
   ]
  },
  {
   "cell_type": "code",
   "execution_count": 22,
   "id": "83053e8f",
   "metadata": {},
   "outputs": [
    {
     "name": "stderr",
     "output_type": "stream",
     "text": [
      "100%|██████████| 61/61 [00:04<00:00, 12.87it/s]\n"
     ]
    }
   ],
   "source": [
    "my_dataset=[]\n",
    "for i in range(len(DCM)):\n",
    "    folder=DCM[i]\n",
    "    my_dataset.append(ToolBox(data_path= folder,\n",
    "              data_type = 'dcm', # DICOM data\n",
    "              multi_rts_per_pat = False, # looks at 1 RTStruct/patient only\n",
    "              messy_structure = False,\n",
    "              image_only = True ))"
   ]
  },
  {
   "cell_type": "code",
   "execution_count": 23,
   "id": "9c414585",
   "metadata": {},
   "outputs": [
    {
     "name": "stderr",
     "output_type": "stream",
     "text": [
      "Patients processed: 100%|██████████| 61/61 [00:30<00:00,  1.99it/s]"
     ]
    },
    {
     "name": "stdout",
     "output_type": "stream",
     "text": [
      "Skipped patients: []\n"
     ]
    },
    {
     "name": "stderr",
     "output_type": "stream",
     "text": [
      "\n"
     ]
    }
   ],
   "source": [
    "skipped_patients=[]\n",
    "for i in range(len(my_dataset)):\n",
    "    infos, skipped_files=my_dataset[i].get_dataset_description(parameter_list = 'CT')\n",
    "    if len(skipped_files)>0:\n",
    "        skipped_patients.append(skipped_files)\n",
    "print('Skipped patients:', skipped_patients)"
   ]
  },
  {
   "cell_type": "markdown",
   "id": "279aae28",
   "metadata": {},
   "source": [
    "3.2) Convert to nrrd"
   ]
  },
  {
   "cell_type": "code",
   "execution_count": 24,
   "id": "d3b122b4",
   "metadata": {},
   "outputs": [
    {
     "name": "stderr",
     "output_type": "stream",
     "text": [
      "Patients converted:   2%|▏         | 1/61 [00:00<00:55,  1.07it/s]"
     ]
    },
    {
     "name": "stdout",
     "output_type": "stream",
     "text": [
      "[Skip] Patient Lung_Dx-G0033 ignoré : Image missing required DICOM tags (PixelSpacing or ImagePositionPatient)\n"
     ]
    },
    {
     "name": "stderr",
     "output_type": "stream",
     "text": [
      "Patients converted:   3%|▎         | 2/61 [00:01<00:51,  1.14it/s]"
     ]
    },
    {
     "name": "stdout",
     "output_type": "stream",
     "text": [
      "[Skip] Patient Lung_Dx-G0034 ignoré : Image missing required DICOM tags (PixelSpacing or ImagePositionPatient)\n"
     ]
    },
    {
     "name": "stderr",
     "output_type": "stream",
     "text": [
      "Patients converted:   8%|▊         | 5/61 [00:03<00:34,  1.64it/s]"
     ]
    },
    {
     "name": "stdout",
     "output_type": "stream",
     "text": [
      "[Skip] Patient Lung_Dx-G0051 ignoré : Image missing required DICOM tags (PixelSpacing or ImagePositionPatient)\n"
     ]
    },
    {
     "name": "stderr",
     "output_type": "stream",
     "text": [
      "Patients converted:  10%|▉         | 6/61 [00:03<00:34,  1.57it/s]"
     ]
    },
    {
     "name": "stdout",
     "output_type": "stream",
     "text": [
      "[Skip] Patient Lung_Dx-G0056 ignoré : Image missing required DICOM tags (PixelSpacing or ImagePositionPatient)\n"
     ]
    },
    {
     "name": "stderr",
     "output_type": "stream",
     "text": [
      "Patients converted:  11%|█▏        | 7/61 [00:04<00:32,  1.64it/s]"
     ]
    },
    {
     "name": "stdout",
     "output_type": "stream",
     "text": [
      "[Skip] Patient Lung_Dx-G0060 ignoré : Image missing required DICOM tags (PixelSpacing or ImagePositionPatient)\n"
     ]
    },
    {
     "name": "stderr",
     "output_type": "stream",
     "text": [
      "Patients converted:  15%|█▍        | 9/61 [00:07<00:54,  1.05s/it]"
     ]
    },
    {
     "name": "stdout",
     "output_type": "stream",
     "text": [
      "[Warning] Zero or undefined z-resolution detected in /Users/constance/Documents/Project_lung_cancer/NIH dataset_raw/manifest-1608669183333/Lung-PET-CT-Dx/Lung_G/Lung_Dx-G0003/07-27-2006-NA-CHESTC-64269/2.000000-5mm-04031. Setting z-resolution to 1.0.\n"
     ]
    },
    {
     "name": "stderr",
     "output_type": "stream",
     "text": [
      "Patients converted:  26%|██▌       | 16/61 [00:14<00:42,  1.06it/s]"
     ]
    },
    {
     "name": "stdout",
     "output_type": "stream",
     "text": [
      "[Skip] Patient Lung_Dx-G0043 ignoré : Image missing required DICOM tags (PixelSpacing or ImagePositionPatient)\n"
     ]
    },
    {
     "name": "stderr",
     "output_type": "stream",
     "text": [
      "Patients converted:  28%|██▊       | 17/61 [00:15<00:36,  1.22it/s]"
     ]
    },
    {
     "name": "stdout",
     "output_type": "stream",
     "text": [
      "[Skip] Patient Lung_Dx-G0044 ignoré : Image missing required DICOM tags (PixelSpacing or ImagePositionPatient)\n"
     ]
    },
    {
     "name": "stderr",
     "output_type": "stream",
     "text": [
      "Patients converted:  33%|███▎      | 20/61 [00:16<00:24,  1.66it/s]"
     ]
    },
    {
     "name": "stdout",
     "output_type": "stream",
     "text": [
      "[Warning] Zero or undefined z-resolution detected in /Users/constance/Documents/Project_lung_cancer/NIH dataset_raw/manifest-1608669183333/Lung-PET-CT-Dx/Lung_G/Lung_Dx-G0017/10-24-2009-NA-LUNGC-80644/2.000000-A phase 5mm Stnd SS50-33209. Setting z-resolution to 1.0.\n"
     ]
    },
    {
     "name": "stderr",
     "output_type": "stream",
     "text": [
      "Patients converted:  38%|███▊      | 23/61 [00:17<00:19,  1.96it/s]"
     ]
    },
    {
     "name": "stdout",
     "output_type": "stream",
     "text": [
      "[Warning] Zero or undefined z-resolution detected in /Users/constance/Documents/Project_lung_cancer/NIH dataset_raw/manifest-1608669183333/Lung-PET-CT-Dx/Lung_G/Lung_Dx-G0026/07-28-2010-NA-chc-85008/2.000000-A phase 5mm Stnd SS50-72066. Setting z-resolution to 1.0.\n"
     ]
    },
    {
     "name": "stderr",
     "output_type": "stream",
     "text": [
      "Patients converted:  41%|████      | 25/61 [00:19<00:24,  1.48it/s]"
     ]
    },
    {
     "name": "stdout",
     "output_type": "stream",
     "text": [
      "[Skip] Patient Lung_Dx-G0042 ignoré : Image missing required DICOM tags (PixelSpacing or ImagePositionPatient)\n"
     ]
    },
    {
     "name": "stderr",
     "output_type": "stream",
     "text": [
      "Patients converted:  48%|████▊     | 29/61 [00:21<00:17,  1.81it/s]"
     ]
    },
    {
     "name": "stdout",
     "output_type": "stream",
     "text": [
      "[Warning] Zero or undefined z-resolution detected in /Users/constance/Documents/Project_lung_cancer/NIH dataset_raw/manifest-1608669183333/Lung-PET-CT-Dx/Lung_G/Lung_Dx-G0029/08-12-2009-NA-lungc-19653/2.000000-A phase 5mm Stnd SS50-61188. Setting z-resolution to 1.0.\n"
     ]
    },
    {
     "name": "stderr",
     "output_type": "stream",
     "text": [
      "Patients converted:  59%|█████▉    | 36/61 [00:26<00:19,  1.29it/s]"
     ]
    },
    {
     "name": "stdout",
     "output_type": "stream",
     "text": [
      "[Warning] Zero or undefined z-resolution detected in /Users/constance/Documents/Project_lung_cancer/NIH dataset_raw/manifest-1608669183333/Lung-PET-CT-Dx/Lung_G/Lung_Dx-G0030/09-18-2009-NA-LUNGC-71852/3.000000-A phase 5mm Stnd SS50-30145. Setting z-resolution to 1.0.\n"
     ]
    },
    {
     "name": "stderr",
     "output_type": "stream",
     "text": [
      "Patients converted:  61%|██████    | 37/61 [00:27<00:18,  1.30it/s]"
     ]
    },
    {
     "name": "stdout",
     "output_type": "stream",
     "text": [
      "[Warning] Zero or undefined z-resolution detected in /Users/constance/Documents/Project_lung_cancer/NIH dataset_raw/manifest-1608669183333/Lung-PET-CT-Dx/Lung_G/Lung_Dx-G0006/12-20-2008-NA-LUNGC-54629/2.000000-A phase 5mm Stnd SS50-37512. Setting z-resolution to 1.0.\n"
     ]
    },
    {
     "name": "stderr",
     "output_type": "stream",
     "text": [
      "Patients converted:  66%|██████▌   | 40/61 [00:30<00:15,  1.32it/s]"
     ]
    },
    {
     "name": "stdout",
     "output_type": "stream",
     "text": [
      "[Skip] Patient Lung_Dx-G0062 ignoré : Image missing required DICOM tags (PixelSpacing or ImagePositionPatient)\n"
     ]
    },
    {
     "name": "stderr",
     "output_type": "stream",
     "text": [
      "Patients converted:  67%|██████▋   | 41/61 [00:30<00:14,  1.37it/s]"
     ]
    },
    {
     "name": "stdout",
     "output_type": "stream",
     "text": [
      "[Skip] Patient Lung_Dx-G0053 ignoré : Image missing required DICOM tags (PixelSpacing or ImagePositionPatient)\n"
     ]
    },
    {
     "name": "stderr",
     "output_type": "stream",
     "text": [
      "Patients converted:  69%|██████▉   | 42/61 [00:31<00:12,  1.58it/s]"
     ]
    },
    {
     "name": "stdout",
     "output_type": "stream",
     "text": [
      "[Skip] Patient Lung_Dx-G0054 ignoré : Image missing required DICOM tags (PixelSpacing or ImagePositionPatient)\n"
     ]
    },
    {
     "name": "stderr",
     "output_type": "stream",
     "text": [
      "Patients converted:  75%|███████▌  | 46/61 [00:34<00:11,  1.26it/s]"
     ]
    },
    {
     "name": "stdout",
     "output_type": "stream",
     "text": [
      "[Skip] Patient Lung_Dx-G0036 ignoré : Image missing required DICOM tags (PixelSpacing or ImagePositionPatient)\n"
     ]
    },
    {
     "name": "stderr",
     "output_type": "stream",
     "text": [
      "Patients converted:  79%|███████▊  | 48/61 [00:35<00:08,  1.52it/s]"
     ]
    },
    {
     "name": "stdout",
     "output_type": "stream",
     "text": [
      "[Warning] Zero or undefined z-resolution detected in /Users/constance/Documents/Project_lung_cancer/NIH dataset_raw/manifest-1608669183333/Lung-PET-CT-Dx/Lung_G/Lung_Dx-G0014/11-19-2008-NA-lungC-80503/2.000000-5mm-17411. Setting z-resolution to 1.0.\n"
     ]
    },
    {
     "name": "stderr",
     "output_type": "stream",
     "text": [
      "Patients converted:  80%|████████  | 49/61 [00:36<00:07,  1.57it/s]"
     ]
    },
    {
     "name": "stdout",
     "output_type": "stream",
     "text": [
      "[Warning] Zero or undefined z-resolution detected in /Users/constance/Documents/Project_lung_cancer/NIH dataset_raw/manifest-1608669183333/Lung-PET-CT-Dx/Lung_G/Lung_Dx-G0013/02-01-2009-NA-CHC-91074/2.000000-A phase 5mm Stnd SS50-37580. Setting z-resolution to 1.0.\n"
     ]
    },
    {
     "name": "stderr",
     "output_type": "stream",
     "text": [
      "Patients converted:  82%|████████▏ | 50/61 [00:36<00:07,  1.45it/s]"
     ]
    },
    {
     "name": "stdout",
     "output_type": "stream",
     "text": [
      "[Warning] Zero or undefined z-resolution detected in /Users/constance/Documents/Project_lung_cancer/NIH dataset_raw/manifest-1608669183333/Lung-PET-CT-Dx/Lung_G/Lung_Dx-G0025/05-01-2011-NA-lungc-84500/2.000000-A phase 5mm Stnd SS50-76735. Setting z-resolution to 1.0.\n"
     ]
    },
    {
     "name": "stderr",
     "output_type": "stream",
     "text": [
      "Patients converted:  89%|████████▊ | 54/61 [00:40<00:05,  1.21it/s]"
     ]
    },
    {
     "name": "stdout",
     "output_type": "stream",
     "text": [
      "[Skip] Patient Lung_Dx-G0040 ignoré : Image missing required DICOM tags (PixelSpacing or ImagePositionPatient)\n"
     ]
    },
    {
     "name": "stderr",
     "output_type": "stream",
     "text": [
      "Patients converted:  93%|█████████▎| 57/61 [00:41<00:02,  1.67it/s]"
     ]
    },
    {
     "name": "stdout",
     "output_type": "stream",
     "text": [
      "[Warning] Zero or undefined z-resolution detected in /Users/constance/Documents/Project_lung_cancer/NIH dataset_raw/manifest-1608669183333/Lung-PET-CT-Dx/Lung_G/Lung_Dx-G0012/04-03-2009-NA-CHC-88590/2.000000-A phase 5mm Stnd SS50-77334. Setting z-resolution to 1.0.\n"
     ]
    },
    {
     "name": "stderr",
     "output_type": "stream",
     "text": [
      "Patients converted: 100%|██████████| 61/61 [00:44<00:00,  1.37it/s]"
     ]
    },
    {
     "name": "stdout",
     "output_type": "stream",
     "text": [
      "[Skip] Patient Lung_Dx-G0048 ignoré : Image missing required DICOM tags (PixelSpacing or ImagePositionPatient)\n",
      "['Lung_Dx-G0033', 'Lung_Dx-G0034', 'Lung_Dx-G0051', 'Lung_Dx-G0056', 'Lung_Dx-G0060', 'Lung_Dx-G0043', 'Lung_Dx-G0044', 'Lung_Dx-G0042', 'Lung_Dx-G0062', 'Lung_Dx-G0053', 'Lung_Dx-G0054', 'Lung_Dx-G0036', 'Lung_Dx-G0040', 'Lung_Dx-G0048']\n"
     ]
    },
    {
     "name": "stderr",
     "output_type": "stream",
     "text": [
      "\n"
     ]
    }
   ],
   "source": [
    "for i in range(len(my_dataset)):\n",
    "    my_dataset[i]=my_dataset[i].convert_to_nrrd(export_path='/Users/constance/Documents/Project_lung_cancer/NIH dataset_raw/NRRD')"
   ]
  }
 ],
 "metadata": {
  "kernelspec": {
   "display_name": "mon_env_py39",
   "language": "python",
   "name": "python3"
  },
  "language_info": {
   "codemirror_mode": {
    "name": "ipython",
    "version": 3
   },
   "file_extension": ".py",
   "mimetype": "text/x-python",
   "name": "python",
   "nbconvert_exporter": "python",
   "pygments_lexer": "ipython3",
   "version": "3.9.18"
  }
 },
 "nbformat": 4,
 "nbformat_minor": 5
}
