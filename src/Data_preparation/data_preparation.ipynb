{
 "cells": [
  {
   "cell_type": "markdown",
   "id": "eae1222a",
   "metadata": {},
   "source": [
    "# From DCM to Nrrd"
   ]
  },
  {
   "cell_type": "markdown",
   "id": "74ab109a",
   "metadata": {},
   "source": [
    "3. Segment the tumors - for one subject"
   ]
  },
  {
   "cell_type": "markdown",
   "id": "3a476be6",
   "metadata": {},
   "source": [
    "bien penser à utiliser ipykernel !! ajouter une condition pour éviter les dossiers .DS_Store ? "
   ]
  },
  {
   "cell_type": "code",
   "execution_count": 1,
   "id": "ac2c22b5",
   "metadata": {},
   "outputs": [],
   "source": [
    "root1subj='/Users/constance/Documents/Project_lung_cancer/NIH dataset_raw/manifest-1608669183333/Lung-PET-CT-Dx/Lung_A_1_60/Lung_Dx-A0059'\n",
    "root1batch= '/Users/constance/Documents/Project_lung_cancer/NIH dataset_raw/manifest-1608669183333/Lung-PET-CT-Dx/Lung_A_1_60'\n",
    "root_total = '/Users/constance/Documents/Project_lung_cancer/NIH dataset_raw/manifest-1608669183333/Lung-PET-CT-Dx'"
   ]
  },
  {
   "cell_type": "code",
   "execution_count": 2,
   "id": "766c0e54",
   "metadata": {},
   "outputs": [],
   "source": [
    "from ToolBox import ToolBox\n",
    "import os\n",
    "\n",
    "model_path = '/Users/constance/Documents/Project_lung_cancer/src/Automatic_segmentation_script/model_files/'\n",
    "path_to_test_data = '/Users/constance/Documents/Project_lung_cancer/NIH dataset_raw/NRRD'\n",
    "save_path = '/Users/constance/Documents/Project_lung_cancer/NIH dataset_raw/Processed'"
   ]
  },
  {
   "cell_type": "markdown",
   "id": "4ce4837e",
   "metadata": {},
   "source": [
    "3.1) Charge an instance of the class"
   ]
  },
  {
   "cell_type": "code",
   "execution_count": 3,
   "id": "83053e8f",
   "metadata": {},
   "outputs": [
    {
     "name": "stderr",
     "output_type": "stream",
     "text": [
      "100%|██████████| 59/59 [00:00<00:00, 301.10it/s]\n"
     ]
    }
   ],
   "source": [
    "my_dataset = ToolBox(data_path= root1batch,\n",
    "              data_type = 'dcm', # DICOM data\n",
    "              multi_rts_per_pat = False, # looks at 1 RTStruct/patient only\n",
    "              messy_structure = False,\n",
    "              image_only = True )"
   ]
  },
  {
   "cell_type": "code",
   "execution_count": 4,
   "id": "9c414585",
   "metadata": {},
   "outputs": [
    {
     "name": "stderr",
     "output_type": "stream",
     "text": [
      "Patients processed: 100%|██████████| 59/59 [00:05<00:00, 10.45it/s]\n"
     ]
    },
    {
     "data": {
      "text/html": [
       "<div>\n",
       "<style scoped>\n",
       "    .dataframe tbody tr th:only-of-type {\n",
       "        vertical-align: middle;\n",
       "    }\n",
       "\n",
       "    .dataframe tbody tr th {\n",
       "        vertical-align: top;\n",
       "    }\n",
       "\n",
       "    .dataframe thead th {\n",
       "        text-align: right;\n",
       "    }\n",
       "</style>\n",
       "<table border=\"1\" class=\"dataframe\">\n",
       "  <thead>\n",
       "    <tr style=\"text-align: right;\">\n",
       "      <th></th>\n",
       "      <th>patient</th>\n",
       "      <th>slice#</th>\n",
       "      <th>PatientName</th>\n",
       "      <th>ConvolutionKernel</th>\n",
       "      <th>SliceThickness</th>\n",
       "      <th>PixelSpacing</th>\n",
       "      <th>KVP</th>\n",
       "      <th>Exposure</th>\n",
       "      <th>XRayTubeCurrent</th>\n",
       "      <th>SeriesDate</th>\n",
       "    </tr>\n",
       "  </thead>\n",
       "  <tbody>\n",
       "    <tr>\n",
       "      <th>0</th>\n",
       "      <td>Lung_Dx-A0033</td>\n",
       "      <td>0</td>\n",
       "      <td>(L, u, n, g, _, D, x, -, A, 0, 0, 3, 3)</td>\n",
       "      <td>LUNG</td>\n",
       "      <td>5.0</td>\n",
       "      <td>[0.669922, 0.669922]</td>\n",
       "      <td>100.0</td>\n",
       "      <td>16</td>\n",
       "      <td>307</td>\n",
       "      <td>20080724</td>\n",
       "    </tr>\n",
       "    <tr>\n",
       "      <th>1</th>\n",
       "      <td>Lung_Dx-A0033</td>\n",
       "      <td>1</td>\n",
       "      <td>(L, u, n, g, _, D, x, -, A, 0, 0, 3, 3)</td>\n",
       "      <td>LUNG</td>\n",
       "      <td>5.0</td>\n",
       "      <td>[0.669922, 0.669922]</td>\n",
       "      <td>100.0</td>\n",
       "      <td>17</td>\n",
       "      <td>312</td>\n",
       "      <td>20080724</td>\n",
       "    </tr>\n",
       "    <tr>\n",
       "      <th>2</th>\n",
       "      <td>Lung_Dx-A0033</td>\n",
       "      <td>2</td>\n",
       "      <td>(L, u, n, g, _, D, x, -, A, 0, 0, 3, 3)</td>\n",
       "      <td>LUNG</td>\n",
       "      <td>5.0</td>\n",
       "      <td>[0.669922, 0.669922]</td>\n",
       "      <td>100.0</td>\n",
       "      <td>17</td>\n",
       "      <td>318</td>\n",
       "      <td>20080724</td>\n",
       "    </tr>\n",
       "    <tr>\n",
       "      <th>3</th>\n",
       "      <td>Lung_Dx-A0033</td>\n",
       "      <td>3</td>\n",
       "      <td>(L, u, n, g, _, D, x, -, A, 0, 0, 3, 3)</td>\n",
       "      <td>LUNG</td>\n",
       "      <td>5.0</td>\n",
       "      <td>[0.669922, 0.669922]</td>\n",
       "      <td>100.0</td>\n",
       "      <td>17</td>\n",
       "      <td>323</td>\n",
       "      <td>20080724</td>\n",
       "    </tr>\n",
       "    <tr>\n",
       "      <th>4</th>\n",
       "      <td>Lung_Dx-A0033</td>\n",
       "      <td>4</td>\n",
       "      <td>(L, u, n, g, _, D, x, -, A, 0, 0, 3, 3)</td>\n",
       "      <td>LUNG</td>\n",
       "      <td>5.0</td>\n",
       "      <td>[0.669922, 0.669922]</td>\n",
       "      <td>100.0</td>\n",
       "      <td>17</td>\n",
       "      <td>326</td>\n",
       "      <td>20080724</td>\n",
       "    </tr>\n",
       "    <tr>\n",
       "      <th>...</th>\n",
       "      <td>...</td>\n",
       "      <td>...</td>\n",
       "      <td>...</td>\n",
       "      <td>...</td>\n",
       "      <td>...</td>\n",
       "      <td>...</td>\n",
       "      <td>...</td>\n",
       "      <td>...</td>\n",
       "      <td>...</td>\n",
       "      <td>...</td>\n",
       "    </tr>\n",
       "    <tr>\n",
       "      <th>3774</th>\n",
       "      <td>Lung_Dx-A0048</td>\n",
       "      <td>20</td>\n",
       "      <td>(L, u, n, g, _, D, x, -, A, 0, 0, 4, 8)</td>\n",
       "      <td>B40f</td>\n",
       "      <td>10.0</td>\n",
       "      <td>[0.689453125, 0.689453125]</td>\n",
       "      <td>120.0</td>\n",
       "      <td>70</td>\n",
       "      <td>176</td>\n",
       "      <td>20090128</td>\n",
       "    </tr>\n",
       "    <tr>\n",
       "      <th>3775</th>\n",
       "      <td>Lung_Dx-A0048</td>\n",
       "      <td>21</td>\n",
       "      <td>(L, u, n, g, _, D, x, -, A, 0, 0, 4, 8)</td>\n",
       "      <td>B40f</td>\n",
       "      <td>10.0</td>\n",
       "      <td>[0.689453125, 0.689453125]</td>\n",
       "      <td>120.0</td>\n",
       "      <td>71</td>\n",
       "      <td>179</td>\n",
       "      <td>20090128</td>\n",
       "    </tr>\n",
       "    <tr>\n",
       "      <th>3776</th>\n",
       "      <td>Lung_Dx-A0048</td>\n",
       "      <td>22</td>\n",
       "      <td>(L, u, n, g, _, D, x, -, A, 0, 0, 4, 8)</td>\n",
       "      <td>B40f</td>\n",
       "      <td>10.0</td>\n",
       "      <td>[0.689453125, 0.689453125]</td>\n",
       "      <td>120.0</td>\n",
       "      <td>71</td>\n",
       "      <td>178</td>\n",
       "      <td>20090128</td>\n",
       "    </tr>\n",
       "    <tr>\n",
       "      <th>3777</th>\n",
       "      <td>Lung_Dx-A0048</td>\n",
       "      <td>23</td>\n",
       "      <td>(L, u, n, g, _, D, x, -, A, 0, 0, 4, 8)</td>\n",
       "      <td>B40f</td>\n",
       "      <td>10.0</td>\n",
       "      <td>[0.689453125, 0.689453125]</td>\n",
       "      <td>120.0</td>\n",
       "      <td>65</td>\n",
       "      <td>164</td>\n",
       "      <td>20090128</td>\n",
       "    </tr>\n",
       "    <tr>\n",
       "      <th>3778</th>\n",
       "      <td>Lung_Dx-A0048</td>\n",
       "      <td>24</td>\n",
       "      <td>(L, u, n, g, _, D, x, -, A, 0, 0, 4, 8)</td>\n",
       "      <td>B40f</td>\n",
       "      <td>10.0</td>\n",
       "      <td>[0.689453125, 0.689453125]</td>\n",
       "      <td>120.0</td>\n",
       "      <td>67</td>\n",
       "      <td>168</td>\n",
       "      <td>20090128</td>\n",
       "    </tr>\n",
       "  </tbody>\n",
       "</table>\n",
       "<p>3779 rows × 10 columns</p>\n",
       "</div>"
      ],
      "text/plain": [
       "            patient slice#                              PatientName  \\\n",
       "0     Lung_Dx-A0033      0  (L, u, n, g, _, D, x, -, A, 0, 0, 3, 3)   \n",
       "1     Lung_Dx-A0033      1  (L, u, n, g, _, D, x, -, A, 0, 0, 3, 3)   \n",
       "2     Lung_Dx-A0033      2  (L, u, n, g, _, D, x, -, A, 0, 0, 3, 3)   \n",
       "3     Lung_Dx-A0033      3  (L, u, n, g, _, D, x, -, A, 0, 0, 3, 3)   \n",
       "4     Lung_Dx-A0033      4  (L, u, n, g, _, D, x, -, A, 0, 0, 3, 3)   \n",
       "...             ...    ...                                      ...   \n",
       "3774  Lung_Dx-A0048     20  (L, u, n, g, _, D, x, -, A, 0, 0, 4, 8)   \n",
       "3775  Lung_Dx-A0048     21  (L, u, n, g, _, D, x, -, A, 0, 0, 4, 8)   \n",
       "3776  Lung_Dx-A0048     22  (L, u, n, g, _, D, x, -, A, 0, 0, 4, 8)   \n",
       "3777  Lung_Dx-A0048     23  (L, u, n, g, _, D, x, -, A, 0, 0, 4, 8)   \n",
       "3778  Lung_Dx-A0048     24  (L, u, n, g, _, D, x, -, A, 0, 0, 4, 8)   \n",
       "\n",
       "     ConvolutionKernel  SliceThickness                PixelSpacing    KVP  \\\n",
       "0                 LUNG             5.0        [0.669922, 0.669922]  100.0   \n",
       "1                 LUNG             5.0        [0.669922, 0.669922]  100.0   \n",
       "2                 LUNG             5.0        [0.669922, 0.669922]  100.0   \n",
       "3                 LUNG             5.0        [0.669922, 0.669922]  100.0   \n",
       "4                 LUNG             5.0        [0.669922, 0.669922]  100.0   \n",
       "...                ...             ...                         ...    ...   \n",
       "3774              B40f            10.0  [0.689453125, 0.689453125]  120.0   \n",
       "3775              B40f            10.0  [0.689453125, 0.689453125]  120.0   \n",
       "3776              B40f            10.0  [0.689453125, 0.689453125]  120.0   \n",
       "3777              B40f            10.0  [0.689453125, 0.689453125]  120.0   \n",
       "3778              B40f            10.0  [0.689453125, 0.689453125]  120.0   \n",
       "\n",
       "      Exposure  XRayTubeCurrent SeriesDate  \n",
       "0           16              307   20080724  \n",
       "1           17              312   20080724  \n",
       "2           17              318   20080724  \n",
       "3           17              323   20080724  \n",
       "4           17              326   20080724  \n",
       "...        ...              ...        ...  \n",
       "3774        70              176   20090128  \n",
       "3775        71              179   20090128  \n",
       "3776        71              178   20090128  \n",
       "3777        65              164   20090128  \n",
       "3778        67              168   20090128  \n",
       "\n",
       "[3779 rows x 10 columns]"
      ]
     },
     "execution_count": 4,
     "metadata": {},
     "output_type": "execute_result"
    }
   ],
   "source": [
    "my_dataset.get_dataset_description(parameter_list = 'CT')"
   ]
  },
  {
   "cell_type": "code",
   "execution_count": 5,
   "id": "6089ac05",
   "metadata": {},
   "outputs": [
    {
     "name": "stdout",
     "output_type": "stream",
     "text": [
      "Dossier utilisé : /Users/constance/Documents/Project_lung_cancer/NIH dataset_raw/manifest-1608669183333/Lung-PET-CT-Dx/Lung_A_1_60\n",
      "Contenu : ['Lung_Dx-A0033', 'Lung_Dx-A0034', 'Lung_Dx-A0002', 'Lung_Dx-A0005', 'Lung_Dx-A0051', 'Lung_Dx-A0056', 'Lung_Dx-A0058', 'Lung_Dx-A0004', 'Lung_Dx-A0003', 'Lung_Dx-A0035', 'Lung_Dx-A0032', 'Lung_Dx-A0059', 'Lung_Dx-A0057', 'Lung_Dx-A0050', 'Lung_Dx-A0043', 'Lung_Dx-A0044', 'Lung_Dx-A0010', 'Lung_Dx-A0028', 'Lung_Dx-A0017', 'Lung_Dx-A0021', 'Lung_Dx-A0019', 'Lung_Dx-A0026', 'Lung_Dx-A0045', 'Lung_Dx-A0042', 'Lung_Dx-A0018', 'Lung_Dx-A0027', 'Lung_Dx-A0020', 'Lung_Dx-A0029', 'Lung_Dx-A0016', 'Lung_Dx-A0011', 'Lung_Dx-A0055', 'Lung_Dx-A0052', 'Lung_Dx-A0037', 'Lung_Dx-A0008', 'Lung_Dx-A0030', 'Lung_Dx-A0006', 'Lung_Dx-A0039', 'Lung_Dx-A0001', 'Lung_Dx-A0053', 'Lung_Dx-A0054', 'Lung_Dx-A0007', 'Lung_Dx-A0038', 'Lung_Dx-A0031', 'Lung_Dx-A0036', 'Lung_Dx-A0009', 'Lung_Dx-A0014', 'Lung_Dx-A0013', 'Lung_Dx-A0025', 'Lung_Dx-A0022', 'Lung_Dx-A0049', 'Lung_Dx-A0047', 'Lung_Dx-A0040', 'Lung_Dx-A0023', 'Lung_Dx-A0024', 'Lung_Dx-A0012', 'Lung_Dx-A0015', 'Lung_Dx-A0041', 'Lung_Dx-A0046', 'Lung_Dx-A0048']\n",
      "my_dataset type : <class 'ToolBox.ToolBox'>\n"
     ]
    }
   ],
   "source": [
    "print(\"Dossier utilisé :\", root1batch)\n",
    "print(\"Contenu :\", os.listdir(root1batch))\n",
    "print(\"my_dataset type :\", type(my_dataset))"
   ]
  },
  {
   "cell_type": "markdown",
   "id": "279aae28",
   "metadata": {},
   "source": [
    "3.2) Convert to nrrd"
   ]
  },
  {
   "cell_type": "code",
   "execution_count": 8,
   "id": "d3b122b4",
   "metadata": {},
   "outputs": [
    {
     "name": "stderr",
     "output_type": "stream",
     "text": [
      "Patients converted:  12%|█▏        | 7/59 [00:01<00:11,  4.64it/s]"
     ]
    },
    {
     "name": "stdout",
     "output_type": "stream",
     "text": [
      "Warning: Zero or undefined z-resolution detected. Setting z-resolution to 1.0.\n",
      "Warning: Zero or undefined z-resolution detected. Setting z-resolution to 1.0.\n",
      "Warning: Zero or undefined z-resolution detected. Setting z-resolution to 1.0.\n"
     ]
    },
    {
     "name": "stderr",
     "output_type": "stream",
     "text": [
      "Patients converted:  32%|███▏      | 19/59 [00:03<00:11,  3.40it/s]"
     ]
    },
    {
     "name": "stdout",
     "output_type": "stream",
     "text": [
      "Warning: Zero or undefined z-resolution detected. Setting z-resolution to 1.0.\n"
     ]
    },
    {
     "name": "stderr",
     "output_type": "stream",
     "text": [
      "Patients converted:  37%|███▋      | 22/59 [00:03<00:06,  6.12it/s]"
     ]
    },
    {
     "name": "stdout",
     "output_type": "stream",
     "text": [
      "Warning: Zero or undefined z-resolution detected. Setting z-resolution to 1.0.\n"
     ]
    },
    {
     "name": "stderr",
     "output_type": "stream",
     "text": [
      "Patients converted:  41%|████      | 24/59 [00:04<00:07,  4.65it/s]"
     ]
    },
    {
     "name": "stdout",
     "output_type": "stream",
     "text": [
      "Warning: Zero or undefined z-resolution detected. Setting z-resolution to 1.0.\n"
     ]
    },
    {
     "name": "stderr",
     "output_type": "stream",
     "text": [
      "Patients converted:  42%|████▏     | 25/59 [00:04<00:10,  3.39it/s]"
     ]
    },
    {
     "name": "stdout",
     "output_type": "stream",
     "text": [
      "Warning: Zero or undefined z-resolution detected. Setting z-resolution to 1.0.\n"
     ]
    },
    {
     "name": "stderr",
     "output_type": "stream",
     "text": [
      "Patients converted:  46%|████▌     | 27/59 [00:05<00:09,  3.30it/s]"
     ]
    },
    {
     "name": "stdout",
     "output_type": "stream",
     "text": [
      "Warning: Zero or undefined z-resolution detected. Setting z-resolution to 1.0.\n",
      "Warning: Zero or undefined z-resolution detected. Setting z-resolution to 1.0.\n"
     ]
    },
    {
     "name": "stderr",
     "output_type": "stream",
     "text": [
      "Patients converted:  51%|█████     | 30/59 [00:06<00:08,  3.42it/s]"
     ]
    },
    {
     "name": "stdout",
     "output_type": "stream",
     "text": [
      "Warning: Zero or undefined z-resolution detected. Setting z-resolution to 1.0.\n"
     ]
    },
    {
     "name": "stderr",
     "output_type": "stream",
     "text": [
      "Patients converted:  59%|█████▉    | 35/59 [00:09<00:11,  2.03it/s]"
     ]
    },
    {
     "name": "stdout",
     "output_type": "stream",
     "text": [
      "Warning: Zero or undefined z-resolution detected. Setting z-resolution to 1.0.\n"
     ]
    },
    {
     "name": "stderr",
     "output_type": "stream",
     "text": [
      "Patients converted:  61%|██████    | 36/59 [00:09<00:09,  2.39it/s]"
     ]
    },
    {
     "name": "stdout",
     "output_type": "stream",
     "text": [
      "Warning: Zero or undefined z-resolution detected. Setting z-resolution to 1.0.\n"
     ]
    },
    {
     "name": "stderr",
     "output_type": "stream",
     "text": [
      "Patients converted:  68%|██████▊   | 40/59 [00:10<00:07,  2.69it/s]"
     ]
    },
    {
     "name": "stdout",
     "output_type": "stream",
     "text": [
      "Warning: Zero or undefined z-resolution detected. Setting z-resolution to 1.0.\n"
     ]
    },
    {
     "name": "stderr",
     "output_type": "stream",
     "text": [
      "Patients converted:  73%|███████▎  | 43/59 [00:11<00:04,  3.20it/s]"
     ]
    },
    {
     "name": "stdout",
     "output_type": "stream",
     "text": [
      "Warning: Zero or undefined z-resolution detected. Setting z-resolution to 1.0.\n"
     ]
    },
    {
     "name": "stderr",
     "output_type": "stream",
     "text": [
      "Patients converted:  75%|███████▍  | 44/59 [00:12<00:05,  2.62it/s]"
     ]
    },
    {
     "name": "stdout",
     "output_type": "stream",
     "text": [
      "Warning: Zero or undefined z-resolution detected. Setting z-resolution to 1.0.\n"
     ]
    },
    {
     "name": "stderr",
     "output_type": "stream",
     "text": [
      "Patients converted:  78%|███████▊  | 46/59 [00:12<00:05,  2.59it/s]"
     ]
    },
    {
     "name": "stdout",
     "output_type": "stream",
     "text": [
      "Warning: Zero or undefined z-resolution detected. Setting z-resolution to 1.0.\n",
      "Warning: Zero or undefined z-resolution detected. Setting z-resolution to 1.0.\n"
     ]
    },
    {
     "name": "stderr",
     "output_type": "stream",
     "text": [
      "Patients converted:  86%|████████▋ | 51/59 [00:13<00:01,  4.08it/s]"
     ]
    },
    {
     "name": "stdout",
     "output_type": "stream",
     "text": [
      "Warning: Zero or undefined z-resolution detected. Setting z-resolution to 1.0.\n"
     ]
    },
    {
     "name": "stderr",
     "output_type": "stream",
     "text": [
      "Patients converted:  98%|█████████▊| 58/59 [00:17<00:00,  2.56it/s]"
     ]
    },
    {
     "name": "stdout",
     "output_type": "stream",
     "text": [
      "Warning: Zero or undefined z-resolution detected. Setting z-resolution to 1.0.\n"
     ]
    },
    {
     "name": "stderr",
     "output_type": "stream",
     "text": [
      "Patients converted: 100%|██████████| 59/59 [00:17<00:00,  3.38it/s]\n"
     ]
    }
   ],
   "source": [
    "mydataset= my_dataset.convert_to_nrrd(export_path='/Users/constance/Documents/Project_lung_cancer/NIH dataset_raw/NRRD')"
   ]
  }
 ],
 "metadata": {
  "kernelspec": {
   "display_name": "mon_env_py39",
   "language": "python",
   "name": "python3"
  },
  "language_info": {
   "codemirror_mode": {
    "name": "ipython",
    "version": 3
   },
   "file_extension": ".py",
   "mimetype": "text/x-python",
   "name": "python",
   "nbconvert_exporter": "python",
   "pygments_lexer": "ipython3",
   "version": "3.9.18"
  }
 },
 "nbformat": 4,
 "nbformat_minor": 5
}
