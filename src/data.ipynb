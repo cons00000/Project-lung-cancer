{
 "cells": [
  {
   "cell_type": "markdown",
   "id": "bc726ef0",
   "metadata": {},
   "source": [
    "# Importer les librairies nécessaires"
   ]
  },
  {
   "cell_type": "code",
   "execution_count": 15,
   "id": "ea8de91a",
   "metadata": {},
   "outputs": [],
   "source": [
    "import os\n",
    "import pandas as pd\n",
    "from collections import Counter\n",
    "from monai.transforms import LoadImage, Compose, EnsureChannelFirst, ScaleIntensity\n",
    "from torch.utils.data import Dataset, DataLoader\n",
    "from dataclasses import dataclass\n",
    "from typing import List"
   ]
  },
  {
   "cell_type": "markdown",
   "id": "96a75526",
   "metadata": {},
   "source": [
    "# 1. Récupérer les données cliniques des patients"
   ]
  },
  {
   "cell_type": "code",
   "execution_count": 16,
   "id": "62466471",
   "metadata": {},
   "outputs": [
    {
     "name": "stdout",
     "output_type": "stream",
     "text": [
      "               No. NewPatientID  Sex         Age  weight (kg) T-Stage  \\\n",
      "count   355.000000          355  355  354.000000   351.000000     355   \n",
      "unique         NaN          355    2         NaN          NaN      10   \n",
      "top            NaN        A0001    M         NaN          NaN      1c   \n",
      "freq           NaN            1  190         NaN          NaN     127   \n",
      "mean    178.000000          NaN  NaN   61.242938    65.315100     NaN   \n",
      "std     102.623909          NaN  NaN    9.987968    11.839154     NaN   \n",
      "min       1.000000          NaN  NaN   28.000000    35.500000     NaN   \n",
      "25%      89.500000          NaN  NaN   55.000000    57.650000     NaN   \n",
      "50%     178.000000          NaN  NaN   62.000000    65.000000     NaN   \n",
      "75%     266.500000          NaN  NaN   68.000000    72.750000     NaN   \n",
      "max     355.000000          NaN  NaN   90.000000   103.000000     NaN   \n",
      "\n",
      "           N-Stage  Ｍ-Stage Histopathological grading  Smoking History  \n",
      "count   355.000000    355.0                       145       355.000000  \n",
      "unique         NaN      7.0                         9              NaN  \n",
      "top            NaN      0.0                        G3              NaN  \n",
      "freq           NaN    230.0                        61              NaN  \n",
      "mean      0.943662      NaN                       NaN         0.436620  \n",
      "std       1.191867      NaN                       NaN         0.496667  \n",
      "min       0.000000      NaN                       NaN         0.000000  \n",
      "25%       0.000000      NaN                       NaN         0.000000  \n",
      "50%       0.000000      NaN                       NaN         0.000000  \n",
      "75%       1.000000      NaN                       NaN         1.000000  \n",
      "max       3.000000      NaN                       NaN         1.000000  \n",
      "No.                            0\n",
      "NewPatientID                   0\n",
      "Sex                            0\n",
      "Age                            1\n",
      "weight (kg)                    4\n",
      "T-Stage                        0\n",
      "N-Stage                        0\n",
      "Ｍ-Stage                        0\n",
      "Histopathological grading    210\n",
      "Smoking History                0\n",
      "dtype: int64\n"
     ]
    }
   ],
   "source": [
    "## données sous forme d'un dataframe (contient aussi les labels)\n",
    "clinical_data = pd.read_excel('/Users/constance/Documents/Project_lung_cancer/NIH dataset_raw/statistics-clinical-20201221.xlsx')\n",
    "\n",
    "# afficher les statistiques descriptives du dataframe\n",
    "print(clinical_data.describe(include='all')) # les colonnes sont: No. ; NewPatientID ; Sex ; Age ; weight (kg) ; T-Stage ; N-Stage ; Ｍ-Stage ; Histopathological grading ; Smoking History                0\n",
    "\n",
    "# afficher le nombre de données manquantes dans chaque colonne\n",
    "print(clinical_data.isnull().sum())"
   ]
  },
  {
   "cell_type": "markdown",
   "id": "959d579a",
   "metadata": {},
   "source": [
    "1.A)1. Définir une classe patient qui servira pour l'entrainement (il faudra lier les données aux CT)"
   ]
  },
  {
   "cell_type": "code",
   "execution_count": 17,
   "id": "577386d4",
   "metadata": {},
   "outputs": [],
   "source": [
    "@dataclass\n",
    "class Patient:\n",
    "    PatientID: str\n",
    "    Sex: str\n",
    "    Age: int\n",
    "    Weight: float\n",
    "    SmokingHistory: int\n",
    "    images: List[str]  # Liste des chemins des images associées à ce patient\n",
    "\n",
    "    def __str__(self):\n",
    "        return (\n",
    "            f\"Patient No. {self.No}, ID: {self.PatientID}, \"\n",
    "            f\"Sex: {self.Sex}, Age: {self.Age}, Weight: {self.Weight}kg, \"\n",
    "            f\"Smoking History: {self.SmokingHistory}, \"\n",
    "            f\"Images: {len(self.images)}\"\n",
    "        )\n",
    "\n",
    "    def add_image(self, image_path: str):\n",
    "        \"\"\"Ajoute une image à la liste des images du patient\"\"\"\n",
    "        self.images.append(image_path)\n"
   ]
  },
  {
   "cell_type": "markdown",
   "id": "3ff54451",
   "metadata": {},
   "source": [
    "1.A)2. gérer les valeurs manquantes dans les données"
   ]
  },
  {
   "cell_type": "code",
   "execution_count": 18,
   "id": "30b96082",
   "metadata": {},
   "outputs": [],
   "source": [
    "# Calculer la moyenne de l'âge et du poids en ignorant les NaN\n",
    "mean_age = clinical_data['Age'].mean()\n",
    "mean_weight = clinical_data['weight (kg)'].mean()\n",
    "\n",
    "# Remplacer les NaN par la moyenne dans les colonnes correspondantes\n",
    "clinical_data['Age'] = clinical_data['Age'].fillna(mean_age)\n",
    "clinical_data['weight (kg)'] = clinical_data['weight (kg)'].fillna(mean_weight)"
   ]
  },
  {
   "cell_type": "code",
   "execution_count": 19,
   "id": "f929393c",
   "metadata": {},
   "outputs": [],
   "source": [
    "patients = {\n",
    "    row['NewPatientID']: Patient(\n",
    "        PatientID=row['NewPatientID'],\n",
    "        Sex=row['Sex'],\n",
    "        Age=int(row['Age']),\n",
    "        Weight=float(row['weight (kg)']),\n",
    "        SmokingHistory=row['Smoking History'],\n",
    "        images=[]  # Liste des images pour chaque patient\n",
    "    )\n",
    "    for _, row in clinical_data.iterrows()\n",
    "}"
   ]
  },
  {
   "cell_type": "markdown",
   "id": "d75f701e",
   "metadata": {},
   "source": [
    "1.B) Créer une classe diagnostic pour les labels des patients"
   ]
  },
  {
   "cell_type": "code",
   "execution_count": 20,
   "id": "448aea2c",
   "metadata": {},
   "outputs": [],
   "source": [
    "class Diagnostic:\n",
    "    def __init__(self, patient_id: str, t_stage: str, n_stage: str, m_stage: str, hispastological_grading: str):\n",
    "        self.patient_id = patient_id\n",
    "        self.t_stage = t_stage\n",
    "        self.n_stage = n_stage\n",
    "        self.m_stage = m_stage\n",
    "        self.hispastological_grading = hispastological_grading\n",
    "\n",
    "    def __str__(self):\n",
    "        return (\n",
    "            f\"Patient ID: {self.patient_id}, T-Stage: {self.t_stage}, \"\n",
    "            f\"N-Stage: {self.n_stage}, M-Stage: {self.m_stage}\"\n",
    "            f\"Histopathological Grading: {self.hispastological_grading}\"\n",
    "        )"
   ]
  },
  {
   "cell_type": "code",
   "execution_count": 21,
   "id": "ff2329a8",
   "metadata": {},
   "outputs": [],
   "source": [
    "diagnostic = {\n",
    "    row['NewPatientID']: Diagnostic(\n",
    "        patient_id=row['NewPatientID'],\n",
    "        t_stage=row['T-Stage'],\n",
    "        n_stage=row['N-Stage'],\n",
    "        m_stage=row['Ｍ-Stage'],\n",
    "        hispastological_grading=row['Histopathological grading']\n",
    "    )\n",
    "    for _, row in clinical_data.iterrows()\n",
    "}"
   ]
  },
  {
   "cell_type": "code",
   "execution_count": 22,
   "id": "b9775485",
   "metadata": {},
   "outputs": [
    {
     "name": "stdout",
     "output_type": "stream",
     "text": [
      "Occurrences par valeur :\n",
      "T-Stage:\n",
      "  2b: 15\n",
      "  1c: 127\n",
      "  1b: 29\n",
      "  3: 57\n",
      "  2: 53\n",
      "  2a: 37\n",
      "  is: 3\n",
      "  1a: 9\n",
      "  4: 23\n",
      "  1: 2\n"
     ]
    }
   ],
   "source": [
    "# Compter les occurrences pour chaque champ\n",
    "t_stage_counts = Counter(diag.t_stage for diag in diagnostic.values())\n",
    "n_stage_counts = Counter(diag.n_stage for diag in diagnostic.values())\n",
    "m_stage_counts = Counter(diag.m_stage for diag in diagnostic.values())\n",
    "grading_counts = Counter(diag.hispastological_grading for diag in diagnostic.values())\n",
    "\n",
    "# Affichage des résultats\n",
    "print(\"Occurrences par valeur :\")\n",
    "print(\"T-Stage:\") # taille de la tumeur\n",
    "for val, count in t_stage_counts.items():\n",
    "    print(f\"  {val}: {count}\")"
   ]
  },
  {
   "cell_type": "code",
   "execution_count": 23,
   "id": "5f1e26fc",
   "metadata": {},
   "outputs": [
    {
     "name": "stdout",
     "output_type": "stream",
     "text": [
      "N-Stage:\n",
      "  3: 78\n",
      "  1: 85\n",
      "  0: 184\n",
      "  2: 8\n"
     ]
    }
   ],
   "source": [
    "print(\"N-Stage:\") # stade des métastases (0: pas de métastases, 1: métastases ganglionnaires péri-bronchiques incluant une extension directe, 2: métastases dans les ganglions, 3: métastases ganglionnaires)\n",
    "for val, count in n_stage_counts.items():\n",
    "    print(f\"  {val}: {count}\")"
   ]
  },
  {
   "cell_type": "code",
   "execution_count": 24,
   "id": "280feef3",
   "metadata": {},
   "outputs": [
    {
     "name": "stdout",
     "output_type": "stream",
     "text": [
      "M-Stage:\n",
      "  1b: 26\n",
      "  0: 230\n",
      "  1: 53\n",
      "  1a: 30\n",
      "  1c: 13\n",
      "  3: 2\n",
      "  2: 1\n"
     ]
    }
   ],
   "source": [
    "print(\"M-Stage:\") # stade des métastases (0: pas de métastases à distance, 1: métastases à distance)\n",
    "for val, count in m_stage_counts.items():\n",
    "    print(f\"  {val}: {count}\")"
   ]
  },
  {
   "cell_type": "code",
   "execution_count": 25,
   "id": "e64642af",
   "metadata": {},
   "outputs": [
    {
     "name": "stdout",
     "output_type": "stream",
     "text": [
      "Histopathological Grading:\n",
      "  G3: 61\n",
      "  nan: 210\n",
      "  G2: 27\n",
      "  G1: 11\n",
      "  G2-3: 34\n",
      "  G1-2: 7\n",
      "   G3: 1\n",
      "  G2-G3: 1\n",
      "   G1: 1\n",
      "  G1-G2: 2\n"
     ]
    }
   ],
   "source": [
    "print(\"Histopathological Grading:\")\n",
    "for val, count in grading_counts.items():\n",
    "    print(f\"  {val}: {count}\")"
   ]
  },
  {
   "cell_type": "markdown",
   "id": "88f10c9f",
   "metadata": {},
   "source": [
    "# 2. Charger les données Dicom"
   ]
  },
  {
   "cell_type": "code",
   "execution_count": 26,
   "id": "60225335",
   "metadata": {},
   "outputs": [],
   "source": [
    "# Étape 1 — récupère les chemins valides\n",
    "def get_valid_image_paths(root_dir, file_extension='.dcm'):\n",
    "    valid_paths = []\n",
    "    loader = LoadImage()\n",
    "\n",
    "    for dirpath, _, filenames in os.walk(root_dir):\n",
    "        for filename in filenames:\n",
    "            if filename.lower().endswith(file_extension):\n",
    "                file_path = os.path.join(dirpath, filename)\n",
    "                try:\n",
    "                    loader(file_path)  # test de chargement uniquement\n",
    "                    valid_paths.append(file_path)\n",
    "                except Exception:\n",
    "                    pass\n",
    "    return valid_paths"
   ]
  },
  {
   "cell_type": "code",
   "execution_count": 27,
   "id": "e79c5ff4",
   "metadata": {},
   "outputs": [],
   "source": [
    "# Étape 2 — dataset personnalisé\n",
    "class DicomDataset(Dataset):\n",
    "    def __init__(self, file_paths, transform=None):\n",
    "        self.file_paths = file_paths\n",
    "        self.transform = transform or Compose([\n",
    "            LoadImage(),\n",
    "            EnsureChannelFirst(),        \n",
    "            ScaleIntensity()              \n",
    "        ])\n",
    "\n",
    "    def __len__(self):\n",
    "        return len(self.file_paths)\n",
    "\n",
    "    def __getitem__(self, idx):\n",
    "        img_path = self.file_paths[idx]\n",
    "        image = self.transform(img_path)\n",
    "        return image "
   ]
  },
  {
   "cell_type": "code",
   "execution_count": null,
   "id": "819fdb3a",
   "metadata": {},
   "outputs": [],
   "source": [
    "# Étape 3 — utilisation dans un DataLoader\n",
    "\n",
    "root_directory = '/Users/constance/Documents/Project_lung_cancer/NIH dataset_raw/manifest-1608669183333/Lung-PET-CT-Dx'\n",
    "valid_paths = get_valid_image_paths(root_directory)\n",
    "\n",
    "dataset = DicomDataset(valid_paths)\n",
    "dataloader = DataLoader(dataset, batch_size=8, shuffle=True)"
   ]
  }
 ],
 "metadata": {
  "kernelspec": {
   "display_name": "mon_env",
   "language": "python",
   "name": "python3"
  },
  "language_info": {
   "codemirror_mode": {
    "name": "ipython",
    "version": 3
   },
   "file_extension": ".py",
   "mimetype": "text/x-python",
   "name": "python",
   "nbconvert_exporter": "python",
   "pygments_lexer": "ipython3",
   "version": "3.10.11"
  }
 },
 "nbformat": 4,
 "nbformat_minor": 5
}
