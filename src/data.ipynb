{
 "cells": [
  {
   "cell_type": "markdown",
   "id": "bc726ef0",
   "metadata": {},
   "source": [
    "# Importer les librairies nécessaires"
   ]
  },
  {
   "cell_type": "code",
   "execution_count": 18,
   "id": "ea8de91a",
   "metadata": {},
   "outputs": [],
   "source": [
    "import os\n",
    "import pandas as pd\n",
    "from collections import Counter\n",
    "from monai.transforms import LoadImage, Compose, EnsureChannelFirst, ScaleIntensity\n",
    "from torch.utils.data import Dataset, DataLoader\n",
    "from dataclasses import dataclass\n",
    "from typing import List\n",
    "import numpy as np"
   ]
  },
  {
   "cell_type": "markdown",
   "id": "96a75526",
   "metadata": {},
   "source": [
    "# 1. Récupérer les données cliniques des patients"
   ]
  },
  {
   "cell_type": "code",
   "execution_count": 25,
   "id": "62466471",
   "metadata": {},
   "outputs": [
    {
     "name": "stdout",
     "output_type": "stream",
     "text": [
      "   No. NewPatientID Sex   Age  weight (kg) T-Stage  N-Stage Ｍ-Stage  \\\n",
      "0    1        A0001   M  58.0         65.0      2b        3      1b   \n",
      "1    2        A0002   F  53.0         55.0      2b        1       0   \n",
      "2    3        A0003   M  60.0         62.0      1c        1       0   \n",
      "3    4        A0004   F  48.0         56.0      1c        3       0   \n",
      "4    5        A0005   M  70.0         75.0      1b        0       0   \n",
      "\n",
      "  Histopathological grading  Smoking History  \n",
      "0                        G3                1  \n",
      "1                       NaN                0  \n",
      "2                        G3                0  \n",
      "3                       NaN                0  \n",
      "4                        G2                1  \n",
      "               No. NewPatientID  Sex         Age  weight (kg) T-Stage  \\\n",
      "count   355.000000          355  355  354.000000   351.000000     355   \n",
      "unique         NaN          355    2         NaN          NaN      10   \n",
      "top            NaN        A0001    M         NaN          NaN      1c   \n",
      "freq           NaN            1  190         NaN          NaN     127   \n",
      "mean    178.000000          NaN  NaN   61.242938    65.315100     NaN   \n",
      "std     102.623909          NaN  NaN    9.987968    11.839154     NaN   \n",
      "min       1.000000          NaN  NaN   28.000000    35.500000     NaN   \n",
      "25%      89.500000          NaN  NaN   55.000000    57.650000     NaN   \n",
      "50%     178.000000          NaN  NaN   62.000000    65.000000     NaN   \n",
      "75%     266.500000          NaN  NaN   68.000000    72.750000     NaN   \n",
      "max     355.000000          NaN  NaN   90.000000   103.000000     NaN   \n",
      "\n",
      "           N-Stage  Ｍ-Stage Histopathological grading  Smoking History  \n",
      "count   355.000000    355.0                       145       355.000000  \n",
      "unique         NaN      7.0                         9              NaN  \n",
      "top            NaN      0.0                        G3              NaN  \n",
      "freq           NaN    230.0                        61              NaN  \n",
      "mean      0.943662      NaN                       NaN         0.436620  \n",
      "std       1.191867      NaN                       NaN         0.496667  \n",
      "min       0.000000      NaN                       NaN         0.000000  \n",
      "25%       0.000000      NaN                       NaN         0.000000  \n",
      "50%       0.000000      NaN                       NaN         0.000000  \n",
      "75%       1.000000      NaN                       NaN         1.000000  \n",
      "max       3.000000      NaN                       NaN         1.000000  \n",
      "missing data:  No.                            0\n",
      "NewPatientID                   0\n",
      "Sex                            0\n",
      "Age                            1\n",
      "weight (kg)                    4\n",
      "T-Stage                        0\n",
      "N-Stage                        0\n",
      "Ｍ-Stage                        0\n",
      "Histopathological grading    210\n",
      "Smoking History                0\n",
      "dtype: int64\n",
      "Index(['No.', 'NewPatientID', 'Sex', 'Age', 'weight (kg)', 'T-Stage',\n",
      "       'N-Stage', 'Ｍ-Stage', 'Histopathological grading', 'Smoking History'],\n",
      "      dtype='object')\n"
     ]
    }
   ],
   "source": [
    "## données sous forme d'un dataframe (contient aussi les labels)\n",
    "clinical_data = pd.read_excel('/Users/constance/Documents/Project_lung_cancer/NIH dataset_raw/statistics-clinical-20201221.xlsx')\n",
    "\n",
    "# afficher les 5 premières lignes du dataframe\n",
    "print(clinical_data.head())\n",
    "\n",
    "# afficher les statistiques descriptives du dataframe\n",
    "print(clinical_data.describe(include='all')) # les colonnes sont: No. ; NewPatientID ; Sex ; Age ; weight (kg) ; T-Stage ; N-Stage ; Ｍ-Stage ; Histopathological grading ; Smoking History                0\n",
    "\n",
    "# afficher le nombre de données manquantes dans chaque colonne\n",
    "print(\"missing data: \", clinical_data.isnull().sum())\n",
    "\n",
    "print(clinical_data.columns)"
   ]
  },
  {
   "cell_type": "code",
   "execution_count": 28,
   "id": "45b1bc8e",
   "metadata": {},
   "outputs": [
    {
     "name": "stdout",
     "output_type": "stream",
     "text": [
      "355\n"
     ]
    }
   ],
   "source": [
    "clinical_data['cancer'] = np.where(clinical_data['T-Stage'].isna(), 0, 1)\n",
    "\n",
    "print(clinical_data['cancer'].sum())"
   ]
  },
  {
   "cell_type": "markdown",
   "id": "de81dfe8",
   "metadata": {},
   "source": [
    "Tous les patients du jeux de données sont malades !! Utiliser plutot un modèle pour la segmentation. "
   ]
  },
  {
   "cell_type": "markdown",
   "id": "959d579a",
   "metadata": {},
   "source": [
    "1.A)1. Définir une classe patient qui servira pour l'entrainement (il faudra lier les données aux CT)"
   ]
  },
  {
   "cell_type": "code",
   "execution_count": 3,
   "id": "577386d4",
   "metadata": {},
   "outputs": [],
   "source": [
    "@dataclass\n",
    "class Patient:\n",
    "    PatientID: str\n",
    "    Sex: str\n",
    "    Age: int\n",
    "    Weight: float\n",
    "    SmokingHistory: int\n",
    "    images: List[str]  # Liste des chemins des images associées à ce patient\n",
    "\n",
    "    def __str__(self):\n",
    "        return (\n",
    "            f\"Patient No. {self.No}, ID: {self.PatientID}, \"\n",
    "            f\"Sex: {self.Sex}, Age: {self.Age}, Weight: {self.Weight}kg, \"\n",
    "            f\"Smoking History: {self.SmokingHistory}, \"\n",
    "            f\"Images: {len(self.images)}\"\n",
    "        )\n",
    "\n",
    "    def add_image(self, image_path: str):\n",
    "        \"\"\"Ajoute une image à la liste des images du patient\"\"\"\n",
    "        self.images.append(image_path)\n"
   ]
  },
  {
   "cell_type": "markdown",
   "id": "3ff54451",
   "metadata": {},
   "source": [
    "1.A)2. gérer les valeurs manquantes dans les données"
   ]
  },
  {
   "cell_type": "code",
   "execution_count": 4,
   "id": "30b96082",
   "metadata": {},
   "outputs": [],
   "source": [
    "# Calculer la moyenne de l'âge et du poids en ignorant les NaN\n",
    "mean_age = clinical_data['Age'].mean()\n",
    "mean_weight = clinical_data['weight (kg)'].mean()\n",
    "\n",
    "# Remplacer les NaN par la moyenne dans les colonnes correspondantes\n",
    "clinical_data['Age'] = clinical_data['Age'].fillna(mean_age)\n",
    "clinical_data['weight (kg)'] = clinical_data['weight (kg)'].fillna(mean_weight)"
   ]
  },
  {
   "cell_type": "code",
   "execution_count": 5,
   "id": "f929393c",
   "metadata": {},
   "outputs": [],
   "source": [
    "patients = {\n",
    "    row['NewPatientID']: Patient(\n",
    "        PatientID=row['NewPatientID'],\n",
    "        Sex=row['Sex'],\n",
    "        Age=int(row['Age']),\n",
    "        Weight=float(row['weight (kg)']),\n",
    "        SmokingHistory=row['Smoking History'],\n",
    "        images=[]  # Liste des images pour chaque patient\n",
    "    )\n",
    "    for _, row in clinical_data.iterrows()\n",
    "}"
   ]
  },
  {
   "cell_type": "markdown",
   "id": "d75f701e",
   "metadata": {},
   "source": [
    "1.B) Créer une classe diagnostic pour les labels des patients"
   ]
  },
  {
   "cell_type": "code",
   "execution_count": 6,
   "id": "448aea2c",
   "metadata": {},
   "outputs": [],
   "source": [
    "class Diagnostic:\n",
    "    def __init__(self, patient_id: str, t_stage: str, n_stage: str, m_stage: str, hispastological_grading: str):\n",
    "        self.patient_id = patient_id\n",
    "        self.t_stage = t_stage\n",
    "        self.n_stage = n_stage\n",
    "        self.m_stage = m_stage\n",
    "        self.hispastological_grading = hispastological_grading\n",
    "\n",
    "    def __str__(self):\n",
    "        return (\n",
    "            f\"Patient ID: {self.patient_id}, T-Stage: {self.t_stage}, \"\n",
    "            f\"N-Stage: {self.n_stage}, M-Stage: {self.m_stage}\"\n",
    "            f\"Histopathological Grading: {self.hispastological_grading}\"\n",
    "        )"
   ]
  },
  {
   "cell_type": "code",
   "execution_count": 7,
   "id": "ff2329a8",
   "metadata": {},
   "outputs": [],
   "source": [
    "diagnostic = {\n",
    "    row['NewPatientID']: Diagnostic(\n",
    "        patient_id=row['NewPatientID'],\n",
    "        t_stage=row['T-Stage'],\n",
    "        n_stage=row['N-Stage'],\n",
    "        m_stage=row['Ｍ-Stage'],\n",
    "        hispastological_grading=row['Histopathological grading']\n",
    "    )\n",
    "    for _, row in clinical_data.iterrows()\n",
    "}"
   ]
  },
  {
   "cell_type": "code",
   "execution_count": 8,
   "id": "b9775485",
   "metadata": {},
   "outputs": [
    {
     "name": "stdout",
     "output_type": "stream",
     "text": [
      "Occurrences par valeur :\n",
      "T-Stage:\n",
      "  2b: 15\n",
      "  1c: 127\n",
      "  1b: 29\n",
      "  3: 57\n",
      "  2: 53\n",
      "  2a: 37\n",
      "  is: 3\n",
      "  1a: 9\n",
      "  4: 23\n",
      "  1: 2\n"
     ]
    }
   ],
   "source": [
    "# Compter les occurrences pour chaque champ\n",
    "t_stage_counts = Counter(diag.t_stage for diag in diagnostic.values())\n",
    "n_stage_counts = Counter(diag.n_stage for diag in diagnostic.values())\n",
    "m_stage_counts = Counter(diag.m_stage for diag in diagnostic.values())\n",
    "grading_counts = Counter(diag.hispastological_grading for diag in diagnostic.values())\n",
    "\n",
    "# Affichage des résultats\n",
    "print(\"Occurrences par valeur :\")\n",
    "print(\"T-Stage:\") # taille de la tumeur\n",
    "for val, count in t_stage_counts.items():\n",
    "    print(f\"  {val}: {count}\")"
   ]
  },
  {
   "cell_type": "code",
   "execution_count": 9,
   "id": "5f1e26fc",
   "metadata": {},
   "outputs": [
    {
     "name": "stdout",
     "output_type": "stream",
     "text": [
      "N-Stage:\n",
      "  3: 78\n",
      "  1: 85\n",
      "  0: 184\n",
      "  2: 8\n"
     ]
    }
   ],
   "source": [
    "print(\"N-Stage:\") # stade des métastases (0: pas de métastases, 1: métastases ganglionnaires péri-bronchiques incluant une extension directe, 2: métastases dans les ganglions, 3: métastases ganglionnaires)\n",
    "for val, count in n_stage_counts.items():\n",
    "    print(f\"  {val}: {count}\")"
   ]
  },
  {
   "cell_type": "code",
   "execution_count": 10,
   "id": "280feef3",
   "metadata": {},
   "outputs": [
    {
     "name": "stdout",
     "output_type": "stream",
     "text": [
      "M-Stage:\n",
      "  1b: 26\n",
      "  0: 230\n",
      "  1: 53\n",
      "  1a: 30\n",
      "  1c: 13\n",
      "  3: 2\n",
      "  2: 1\n"
     ]
    }
   ],
   "source": [
    "print(\"M-Stage:\") # stade des métastases (0: pas de métastases à distance, 1: métastases à distance)\n",
    "for val, count in m_stage_counts.items():\n",
    "    print(f\"  {val}: {count}\")"
   ]
  },
  {
   "cell_type": "code",
   "execution_count": 11,
   "id": "e64642af",
   "metadata": {},
   "outputs": [
    {
     "name": "stdout",
     "output_type": "stream",
     "text": [
      "Histopathological Grading:\n",
      "  G3: 61\n",
      "  nan: 210\n",
      "  G2: 27\n",
      "  G1: 11\n",
      "  G2-3: 34\n",
      "  G1-2: 7\n",
      "   G3: 1\n",
      "  G2-G3: 1\n",
      "   G1: 1\n",
      "  G1-G2: 2\n"
     ]
    }
   ],
   "source": [
    "print(\"Histopathological Grading:\")\n",
    "for val, count in grading_counts.items():\n",
    "    print(f\"  {val}: {count}\")"
   ]
  },
  {
   "cell_type": "markdown",
   "id": "88f10c9f",
   "metadata": {},
   "source": [
    "# 2. Charger les données Dicom"
   ]
  },
  {
   "cell_type": "code",
   "execution_count": 12,
   "id": "60225335",
   "metadata": {},
   "outputs": [],
   "source": [
    "# Étape 1 — récupère les chemins valides\n",
    "def get_valid_image_paths(root_dir, file_extension='.dcm'):\n",
    "    valid_paths = []\n",
    "    loader = LoadImage()\n",
    "\n",
    "    for dirpath, _, filenames in os.walk(root_dir):\n",
    "        for filename in filenames:\n",
    "            if filename.lower().endswith(file_extension):\n",
    "                file_path = os.path.join(dirpath, filename)\n",
    "                try:\n",
    "                    loader(file_path)  # test de chargement uniquement\n",
    "                    valid_paths.append(file_path)\n",
    "                except Exception:\n",
    "                    pass\n",
    "    return valid_paths"
   ]
  },
  {
   "cell_type": "code",
   "execution_count": 13,
   "id": "e79c5ff4",
   "metadata": {},
   "outputs": [],
   "source": [
    "# Étape 2 — dataset personnalisé\n",
    "class DicomDataset(Dataset):\n",
    "    def __init__(self, file_paths, transform=None):\n",
    "        self.file_paths = file_paths\n",
    "        self.transform = transform or Compose([\n",
    "            LoadImage(),\n",
    "            EnsureChannelFirst(),        \n",
    "            ScaleIntensity()              \n",
    "        ])\n",
    "\n",
    "    def __len__(self):\n",
    "        return len(self.file_paths)\n",
    "\n",
    "    def __getitem__(self, idx):\n",
    "        img_path = self.file_paths[idx]\n",
    "        image = self.transform(img_path)\n",
    "        return image "
   ]
  },
  {
   "cell_type": "code",
   "execution_count": 29,
   "id": "819fdb3a",
   "metadata": {},
   "outputs": [
    {
     "ename": "KeyboardInterrupt",
     "evalue": "",
     "output_type": "error",
     "traceback": [
      "\u001b[0;31m---------------------------------------------------------------------------\u001b[0m",
      "\u001b[0;31mRuntimeError\u001b[0m                              Traceback (most recent call last)",
      "File \u001b[0;32m~/Documents/Project_lung_cancer/mon_env/lib/python3.10/site-packages/itk/support/extras.py:1982\u001b[0m, in \u001b[0;36mdown_cast\u001b[0;34m(obj)\u001b[0m\n\u001b[1;32m   1981\u001b[0m \u001b[38;5;28;01mtry\u001b[39;00m:\n\u001b[0;32m-> 1982\u001b[0m     \u001b[38;5;28;01mreturn\u001b[39;00m \u001b[43mc\u001b[49m\u001b[38;5;241;43m.\u001b[39;49m\u001b[43mcast\u001b[49m\u001b[43m(\u001b[49m\u001b[43mobj\u001b[49m\u001b[43m)\u001b[49m\n\u001b[1;32m   1983\u001b[0m \u001b[38;5;28;01mexcept\u001b[39;00m \u001b[38;5;167;01mException\u001b[39;00m:\n\u001b[1;32m   1984\u001b[0m     \u001b[38;5;66;03m# fail silently for now\u001b[39;00m\n",
      "File \u001b[0;32m~/Documents/Project_lung_cancer/mon_env/lib/python3.10/site-packages/itk/itkMetaDataObjectPython.py:289\u001b[0m, in \u001b[0;36mitkMetaDataObjectB.cast\u001b[0;34m(obj)\u001b[0m\n\u001b[1;32m    281\u001b[0m \u001b[38;5;250m\u001b[39m\u001b[38;5;124mr\u001b[39m\u001b[38;5;124;03m\"\"\"\u001b[39;00m\n\u001b[1;32m    282\u001b[0m \u001b[38;5;124;03mcast(obj) -> itkMetaDataObjectB\u001b[39;00m\n\u001b[1;32m    283\u001b[0m \n\u001b[0;32m   (...)\u001b[0m\n\u001b[1;32m    287\u001b[0m \n\u001b[1;32m    288\u001b[0m \u001b[38;5;124;03m\"\"\"\u001b[39;00m\n\u001b[0;32m--> 289\u001b[0m \u001b[38;5;28;01mreturn\u001b[39;00m \u001b[43m_itkMetaDataObjectPython\u001b[49m\u001b[38;5;241;43m.\u001b[39;49m\u001b[43mitkMetaDataObjectB_cast\u001b[49m\u001b[43m(\u001b[49m\u001b[43mobj\u001b[49m\u001b[43m)\u001b[49m\n",
      "\u001b[0;31mRuntimeError\u001b[0m: std::bad_cast",
      "\nDuring handling of the above exception, another exception occurred:\n",
      "\u001b[0;31mKeyboardInterrupt\u001b[0m                         Traceback (most recent call last)",
      "Cell \u001b[0;32mIn[29], line 4\u001b[0m\n\u001b[1;32m      1\u001b[0m \u001b[38;5;66;03m# Étape 3 — utilisation dans un DataLoader\u001b[39;00m\n\u001b[1;32m      3\u001b[0m root_directory \u001b[38;5;241m=\u001b[39m \u001b[38;5;124m'\u001b[39m\u001b[38;5;124m/Users/constance/Documents/Project_lung_cancer/NIH dataset_raw/manifest-1608669183333/Lung-PET-CT-Dx\u001b[39m\u001b[38;5;124m'\u001b[39m\n\u001b[0;32m----> 4\u001b[0m valid_paths \u001b[38;5;241m=\u001b[39m \u001b[43mget_valid_image_paths\u001b[49m\u001b[43m(\u001b[49m\u001b[43mroot_directory\u001b[49m\u001b[43m)\u001b[49m\n\u001b[1;32m      6\u001b[0m \u001b[38;5;66;03m# dataset = DicomDataset(valid_paths)\u001b[39;00m\n\u001b[1;32m      7\u001b[0m \u001b[38;5;66;03m# dataloader = DataLoader(dataset, batch_size=8, shuffle=True)\u001b[39;00m\n",
      "Cell \u001b[0;32mIn[12], line 11\u001b[0m, in \u001b[0;36mget_valid_image_paths\u001b[0;34m(root_dir, file_extension)\u001b[0m\n\u001b[1;32m      9\u001b[0m file_path \u001b[38;5;241m=\u001b[39m os\u001b[38;5;241m.\u001b[39mpath\u001b[38;5;241m.\u001b[39mjoin(dirpath, filename)\n\u001b[1;32m     10\u001b[0m \u001b[38;5;28;01mtry\u001b[39;00m:\n\u001b[0;32m---> 11\u001b[0m     \u001b[43mloader\u001b[49m\u001b[43m(\u001b[49m\u001b[43mfile_path\u001b[49m\u001b[43m)\u001b[49m  \u001b[38;5;66;03m# test de chargement uniquement\u001b[39;00m\n\u001b[1;32m     12\u001b[0m     valid_paths\u001b[38;5;241m.\u001b[39mappend(file_path)\n\u001b[1;32m     13\u001b[0m \u001b[38;5;28;01mexcept\u001b[39;00m \u001b[38;5;167;01mException\u001b[39;00m:\n",
      "File \u001b[0;32m~/Documents/Project_lung_cancer/mon_env/lib/python3.10/site-packages/monai/transforms/io/array.py:291\u001b[0m, in \u001b[0;36mLoadImage.__call__\u001b[0;34m(self, filename, reader)\u001b[0m\n\u001b[1;32m    283\u001b[0m     \u001b[38;5;28;01mraise\u001b[39;00m \u001b[38;5;167;01mRuntimeError\u001b[39;00m(\n\u001b[1;32m    284\u001b[0m         \u001b[38;5;124mf\u001b[39m\u001b[38;5;124m\"\u001b[39m\u001b[38;5;132;01m{\u001b[39;00m\u001b[38;5;28mself\u001b[39m\u001b[38;5;241m.\u001b[39m\u001b[38;5;18m__class__\u001b[39m\u001b[38;5;241m.\u001b[39m\u001b[38;5;18m__name__\u001b[39m\u001b[38;5;132;01m}\u001b[39;00m\u001b[38;5;124m cannot find a suitable reader for file: \u001b[39m\u001b[38;5;132;01m{\u001b[39;00mfilename\u001b[38;5;132;01m}\u001b[39;00m\u001b[38;5;124m.\u001b[39m\u001b[38;5;130;01m\\n\u001b[39;00m\u001b[38;5;124m\"\u001b[39m\n\u001b[1;32m    285\u001b[0m         \u001b[38;5;124m\"\u001b[39m\u001b[38;5;124m    Please install the reader libraries, see also the installation instructions:\u001b[39m\u001b[38;5;130;01m\\n\u001b[39;00m\u001b[38;5;124m\"\u001b[39m\n\u001b[1;32m    286\u001b[0m         \u001b[38;5;124m\"\u001b[39m\u001b[38;5;124m    https://docs.monai.io/en/latest/installation.html#installing-the-recommended-dependencies.\u001b[39m\u001b[38;5;130;01m\\n\u001b[39;00m\u001b[38;5;124m\"\u001b[39m\n\u001b[1;32m    287\u001b[0m         \u001b[38;5;124mf\u001b[39m\u001b[38;5;124m\"\u001b[39m\u001b[38;5;124m   The current registered: \u001b[39m\u001b[38;5;132;01m{\u001b[39;00m\u001b[38;5;28mself\u001b[39m\u001b[38;5;241m.\u001b[39mreaders\u001b[38;5;132;01m}\u001b[39;00m\u001b[38;5;124m.\u001b[39m\u001b[38;5;130;01m\\n\u001b[39;00m\u001b[38;5;132;01m{\u001b[39;00mmsg\u001b[38;5;132;01m}\u001b[39;00m\u001b[38;5;124m\"\u001b[39m\n\u001b[1;32m    288\u001b[0m     )\n\u001b[1;32m    290\u001b[0m img_array: NdarrayOrTensor\n\u001b[0;32m--> 291\u001b[0m img_array, meta_data \u001b[38;5;241m=\u001b[39m \u001b[43mreader\u001b[49m\u001b[38;5;241;43m.\u001b[39;49m\u001b[43mget_data\u001b[49m\u001b[43m(\u001b[49m\u001b[43mimg\u001b[49m\u001b[43m)\u001b[49m\n\u001b[1;32m    292\u001b[0m img_array \u001b[38;5;241m=\u001b[39m convert_to_dst_type(img_array, dst\u001b[38;5;241m=\u001b[39mimg_array, dtype\u001b[38;5;241m=\u001b[39m\u001b[38;5;28mself\u001b[39m\u001b[38;5;241m.\u001b[39mdtype)[\u001b[38;5;241m0\u001b[39m]\n\u001b[1;32m    293\u001b[0m \u001b[38;5;28;01mif\u001b[39;00m \u001b[38;5;129;01mnot\u001b[39;00m \u001b[38;5;28misinstance\u001b[39m(meta_data, \u001b[38;5;28mdict\u001b[39m):\n",
      "File \u001b[0;32m~/Documents/Project_lung_cancer/mon_env/lib/python3.10/site-packages/monai/data/image_reader.py:280\u001b[0m, in \u001b[0;36mITKReader.get_data\u001b[0;34m(self, img)\u001b[0m\n\u001b[1;32m    278\u001b[0m data \u001b[38;5;241m=\u001b[39m \u001b[38;5;28mself\u001b[39m\u001b[38;5;241m.\u001b[39m_get_array_data(i)\n\u001b[1;32m    279\u001b[0m img_array\u001b[38;5;241m.\u001b[39mappend(data)\n\u001b[0;32m--> 280\u001b[0m header \u001b[38;5;241m=\u001b[39m \u001b[38;5;28;43mself\u001b[39;49m\u001b[38;5;241;43m.\u001b[39;49m\u001b[43m_get_meta_dict\u001b[49m\u001b[43m(\u001b[49m\u001b[43mi\u001b[49m\u001b[43m)\u001b[49m\n\u001b[1;32m    281\u001b[0m header[MetaKeys\u001b[38;5;241m.\u001b[39mORIGINAL_AFFINE] \u001b[38;5;241m=\u001b[39m \u001b[38;5;28mself\u001b[39m\u001b[38;5;241m.\u001b[39m_get_affine(i, \u001b[38;5;28mself\u001b[39m\u001b[38;5;241m.\u001b[39maffine_lps_to_ras)\n\u001b[1;32m    282\u001b[0m header[MetaKeys\u001b[38;5;241m.\u001b[39mSPACE] \u001b[38;5;241m=\u001b[39m SpaceKeys\u001b[38;5;241m.\u001b[39mRAS \u001b[38;5;28;01mif\u001b[39;00m \u001b[38;5;28mself\u001b[39m\u001b[38;5;241m.\u001b[39maffine_lps_to_ras \u001b[38;5;28;01melse\u001b[39;00m SpaceKeys\u001b[38;5;241m.\u001b[39mLPS\n",
      "File \u001b[0;32m~/Documents/Project_lung_cancer/mon_env/lib/python3.10/site-packages/monai/data/image_reader.py:308\u001b[0m, in \u001b[0;36mITKReader._get_meta_dict\u001b[0;34m(self, img)\u001b[0m\n\u001b[1;32m    306\u001b[0m     \u001b[38;5;28;01mif\u001b[39;00m key\u001b[38;5;241m.\u001b[39mstartswith(\u001b[38;5;124m\"\u001b[39m\u001b[38;5;124mITK_\u001b[39m\u001b[38;5;124m\"\u001b[39m):\n\u001b[1;32m    307\u001b[0m         \u001b[38;5;28;01mcontinue\u001b[39;00m\n\u001b[0;32m--> 308\u001b[0m     val \u001b[38;5;241m=\u001b[39m \u001b[43mimg_meta_dict\u001b[49m\u001b[43m[\u001b[49m\u001b[43mkey\u001b[49m\u001b[43m]\u001b[49m\n\u001b[1;32m    309\u001b[0m     meta_dict[key] \u001b[38;5;241m=\u001b[39m np\u001b[38;5;241m.\u001b[39masarray(val) \u001b[38;5;28;01mif\u001b[39;00m \u001b[38;5;28mtype\u001b[39m(val)\u001b[38;5;241m.\u001b[39m\u001b[38;5;18m__name__\u001b[39m\u001b[38;5;241m.\u001b[39mstartswith(\u001b[38;5;124m\"\u001b[39m\u001b[38;5;124mitk\u001b[39m\u001b[38;5;124m\"\u001b[39m) \u001b[38;5;28;01melse\u001b[39;00m val\n\u001b[1;32m    311\u001b[0m meta_dict[\u001b[38;5;124m\"\u001b[39m\u001b[38;5;124mspacing\u001b[39m\u001b[38;5;124m\"\u001b[39m] \u001b[38;5;241m=\u001b[39m np\u001b[38;5;241m.\u001b[39masarray(img\u001b[38;5;241m.\u001b[39mGetSpacing())\n",
      "File \u001b[0;32m~/Documents/Project_lung_cancer/mon_env/lib/python3.10/site-packages/itk/ITKCommonBasePython.py:2107\u001b[0m, in \u001b[0;36mitkMetaDataDictionary.__getitem__\u001b[0;34m(self, key)\u001b[0m\n\u001b[1;32m   2105\u001b[0m \u001b[38;5;28;01mimport\u001b[39;00m\u001b[38;5;250m \u001b[39m\u001b[38;5;21;01mitk\u001b[39;00m\n\u001b[1;32m   2106\u001b[0m obj \u001b[38;5;241m=\u001b[39m \u001b[38;5;28mself\u001b[39m\u001b[38;5;241m.\u001b[39mGet(key)\n\u001b[0;32m-> 2107\u001b[0m \u001b[38;5;28;01mreturn\u001b[39;00m \u001b[43mitk\u001b[49m\u001b[38;5;241;43m.\u001b[39;49m\u001b[43mdown_cast\u001b[49m\u001b[43m(\u001b[49m\u001b[43mobj\u001b[49m\u001b[43m)\u001b[49m\u001b[38;5;241m.\u001b[39mGetMetaDataObjectValue()\n",
      "File \u001b[0;32m~/Documents/Project_lung_cancer/mon_env/lib/python3.10/site-packages/itk/support/extras.py:1982\u001b[0m, in \u001b[0;36mdown_cast\u001b[0;34m(obj)\u001b[0m\n\u001b[1;32m   1980\u001b[0m \u001b[38;5;28;01mfor\u001b[39;00m c \u001b[38;5;129;01min\u001b[39;00m t\u001b[38;5;241m.\u001b[39mvalues():\n\u001b[1;32m   1981\u001b[0m     \u001b[38;5;28;01mtry\u001b[39;00m:\n\u001b[0;32m-> 1982\u001b[0m         \u001b[38;5;28;01mreturn\u001b[39;00m \u001b[43mc\u001b[49m\u001b[38;5;241;43m.\u001b[39;49m\u001b[43mcast\u001b[49m\u001b[43m(\u001b[49m\u001b[43mobj\u001b[49m\u001b[43m)\u001b[49m\n\u001b[1;32m   1983\u001b[0m     \u001b[38;5;28;01mexcept\u001b[39;00m \u001b[38;5;167;01mException\u001b[39;00m:\n\u001b[1;32m   1984\u001b[0m         \u001b[38;5;66;03m# fail silently for now\u001b[39;00m\n\u001b[1;32m   1985\u001b[0m         \u001b[38;5;28;01mpass\u001b[39;00m\n",
      "\u001b[0;31mKeyboardInterrupt\u001b[0m: "
     ]
    }
   ],
   "source": [
    "# Étape 3 — utilisation dans un DataLoader\n",
    "\n",
    "root_directory = '/Users/constance/Documents/Project_lung_cancer/NIH dataset_raw/manifest-1608669183333/Lung-PET-CT-Dx'\n",
    "valid_paths = get_valid_image_paths(root_directory)\n",
    "\n",
    "# dataset = DicomDataset(valid_paths)\n",
    "# dataloader = DataLoader(dataset, batch_size=8, shuffle=True)"
   ]
  },
  {
   "cell_type": "markdown",
   "id": "03bdea77",
   "metadata": {},
   "source": [
    "# 3. Faire correspondre les annotations aux images CT"
   ]
  }
 ],
 "metadata": {
  "kernelspec": {
   "display_name": "mon_env",
   "language": "python",
   "name": "python3"
  },
  "language_info": {
   "codemirror_mode": {
    "name": "ipython",
    "version": 3
   },
   "file_extension": ".py",
   "mimetype": "text/x-python",
   "name": "python",
   "nbconvert_exporter": "python",
   "pygments_lexer": "ipython3",
   "version": "3.10.11"
  }
 },
 "nbformat": 4,
 "nbformat_minor": 5
}
