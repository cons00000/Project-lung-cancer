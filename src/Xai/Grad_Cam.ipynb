{
 "cells": [
  {
   "cell_type": "markdown",
   "id": "f6d652d9",
   "metadata": {},
   "source": [
    "# Xai _ Grad-Cam (TF)"
   ]
  },
  {
   "cell_type": "code",
   "execution_count": 16,
   "id": "5fbbb18f",
   "metadata": {},
   "outputs": [],
   "source": [
    "import sys\n",
    "sys.path.append('/Users/constance/Documents/Project_lung_cancer/src/Segmentation')\n",
    "from TheDuneAI import ContourPilot as cp\n",
    "import tensorflow as tf\n",
    "import numpy as np\n",
    "from tensorflow.keras.models import Model\n",
    "import matplotlib.pyplot as plt\n",
    "from tqdm import tqdm"
   ]
  },
  {
   "cell_type": "code",
   "execution_count": 17,
   "id": "eda1150f",
   "metadata": {},
   "outputs": [],
   "source": [
    "model_path = '/Users/constance/Documents/Project_lung_cancer/src/Segmentation/model_files/'\n",
    "path_to_test_data = '/Users/constance/Documents/Project_lung_cancer/NIH dataset_raw/NRRD/converted_nrrds/'\n",
    "save_path = '/Users/constance/Documents/Project_lung_cancer/NIH dataset_raw/Processed'"
   ]
  },
  {
   "cell_type": "code",
   "execution_count": 18,
   "id": "cf4351f5",
   "metadata": {},
   "outputs": [
    {
     "name": "stdout",
     "output_type": "stream",
     "text": [
      "0 input_1 InputLayer\n",
      "1 conv2d_1 Conv2D\n",
      "2 conv2d_2 Conv2D\n",
      "3 max_pooling2d_1 MaxPooling2D\n",
      "4 conv2d_3 Conv2D\n",
      "5 conv2d_4 Conv2D\n",
      "6 max_pooling2d_2 MaxPooling2D\n",
      "7 conv2d_5 Conv2D\n",
      "8 conv2d_6 Conv2D\n",
      "9 max_pooling2d_3 MaxPooling2D\n",
      "10 conv2d_7 Conv2D\n",
      "11 conv2d_8 Conv2D\n",
      "12 dropout_1 Dropout\n",
      "13 max_pooling2d_4 MaxPooling2D\n",
      "14 conv2d_9 Conv2D\n",
      "15 conv2d_10 Conv2D\n",
      "16 dropout_2 Dropout\n",
      "17 up_sampling2d_1 UpSampling2D\n",
      "18 conv2d_11 Conv2D\n",
      "19 concatenate_1 Concatenate\n",
      "20 conv2d_12 Conv2D\n",
      "21 conv2d_13 Conv2D\n",
      "22 up_sampling2d_2 UpSampling2D\n",
      "23 conv2d_14 Conv2D\n",
      "24 concatenate_2 Concatenate\n",
      "25 conv2d_15 Conv2D\n",
      "26 conv2d_16 Conv2D\n",
      "27 up_sampling2d_3 UpSampling2D\n",
      "28 conv2d_17 Conv2D\n",
      "29 concatenate_3 Concatenate\n",
      "30 conv2d_18 Conv2D\n",
      "31 conv2d_19 Conv2D\n",
      "32 up_sampling2d_4 UpSampling2D\n",
      "33 conv2d_20 Conv2D\n",
      "34 concatenate_4 Concatenate\n",
      "35 conv2d_21 Conv2D\n",
      "36 conv2d_22 Conv2D\n",
      "37 conv2d_23 Conv2D\n",
      "38 conv2d_24 Conv2D\n"
     ]
    },
    {
     "name": "stderr",
     "output_type": "stream",
     "text": [
      "100%|██████████| 299/299 [00:00<00:00, 9061.13it/s]"
     ]
    },
    {
     "name": "stdout",
     "output_type": "stream",
     "text": [
      "299  Patients found\n",
      "Epoch end\n",
      "------- Loading patients in predict mode -------\n",
      "0 input_1 InputLayer\n",
      "1 conv2d_1 Conv2D\n",
      "2 conv2d_2 Conv2D\n",
      "3 max_pooling2d_1 MaxPooling2D\n",
      "4 conv2d_3 Conv2D\n",
      "5 conv2d_4 Conv2D\n",
      "6 max_pooling2d_2 MaxPooling2D\n",
      "7 conv2d_5 Conv2D\n",
      "8 conv2d_6 Conv2D\n",
      "9 max_pooling2d_3 MaxPooling2D\n",
      "10 conv2d_7 Conv2D\n",
      "11 conv2d_8 Conv2D\n",
      "12 dropout_1 Dropout\n",
      "13 max_pooling2d_4 MaxPooling2D\n",
      "14 conv2d_9 Conv2D\n",
      "15 conv2d_10 Conv2D\n",
      "16 dropout_2 Dropout\n",
      "17 up_sampling2d_1 UpSampling2D\n",
      "18 conv2d_11 Conv2D\n",
      "19 concatenate_1 Concatenate\n",
      "20 conv2d_12 Conv2D\n",
      "21 conv2d_13 Conv2D\n",
      "22 up_sampling2d_2 UpSampling2D\n",
      "23 conv2d_14 Conv2D\n",
      "24 concatenate_2 Concatenate\n",
      "25 conv2d_15 Conv2D\n",
      "26 conv2d_16 Conv2D\n",
      "27 up_sampling2d_3 UpSampling2D\n",
      "28 conv2d_17 Conv2D\n",
      "29 concatenate_3 Concatenate\n",
      "30 conv2d_18 Conv2D\n",
      "31 conv2d_19 Conv2D\n",
      "32 up_sampling2d_4 UpSampling2D\n",
      "33 conv2d_20 Conv2D\n",
      "34 concatenate_4 Concatenate\n",
      "35 conv2d_21 Conv2D\n",
      "36 conv2d_22 Conv2D\n",
      "37 conv2d_23 Conv2D\n",
      "38 conv2d_24 Conv2D\n"
     ]
    },
    {
     "name": "stderr",
     "output_type": "stream",
     "text": [
      "\n"
     ]
    }
   ],
   "source": [
    "model = cp(model_path,path_to_test_data,save_path,verbosity=True)\n",
    "for i, layer in enumerate(model.model1.layers):\n",
    "        print(i, layer.name, layer.__class__.__name__)\n"
   ]
  },
  {
   "cell_type": "code",
   "execution_count": 19,
   "id": "bfaed4f7",
   "metadata": {},
   "outputs": [
    {
     "name": "stderr",
     "output_type": "stream",
     "text": [
      "Progress:   0%|          | 0/299 [00:22<?, ?it/s]"
     ]
    },
    {
     "name": "stdout",
     "output_type": "stream",
     "text": [
      "(44, 512, 512)\n"
     ]
    },
    {
     "name": "stderr",
     "output_type": "stream",
     "text": [
      "\n"
     ]
    },
    {
     "name": "stdout",
     "output_type": "stream",
     "text": [
      "Window limits  -1000 150.0\n",
      "Amount of unique values, original img:  1151 resampled img:  46\n"
     ]
    }
   ],
   "source": [
    "target_layer = model.model1.get_layer(\"conv2d_21\")\n",
    "filename = list(model.Patient_dict.keys())[0]\n",
    "\n",
    "gen_with_progress = tqdm(model.Patients_gen, desc='Progress')\n",
    "gen_iterator = iter(gen_with_progress)  # <-- transformer en itérateur\n",
    "img, _, filename, params = next(gen_iterator)"
   ]
  },
  {
   "cell_type": "code",
   "execution_count": 20,
   "id": "2c1289f1",
   "metadata": {},
   "outputs": [],
   "source": [
    "last_conv_layer_model = Model(inputs=model.model1.input,\n",
    "                              outputs=target_layer.output)\n",
    "\n",
    "x = tf.keras.Input(shape=target_layer.output.shape[1:]) \n",
    "y = x\n",
    "for layer in model.model1.layers[model.model1.layers.index(target_layer) + 1:]:\n",
    "    y = layer(y)\n",
    "seg_model = Model(inputs=x, outputs=y)"
   ]
  },
  {
   "cell_type": "code",
   "execution_count": 21,
   "id": "e3bf528d",
   "metadata": {},
   "outputs": [],
   "source": [
    "def generate_segmentation_gradcam(model_obj, img, target_layer_name=\"conv2d_21\", pixel_of_interest=None):\n",
    "    \"\"\"\n",
    "    Génère une carte Grad-CAM pour un modèle de segmentation.\n",
    "    \n",
    "    Arguments :\n",
    "      - model_obj : l'objet modèle tel que chargé via ContourPilot (utilise model_obj.model1 comme tf.keras.Model).\n",
    "      - img       : image prétraitée (NumPy array) de forme (batch, H, W, channels). On suppose par ex. (1, 512, 512, 1).\n",
    "      - target_layer_name : nom de la couche convolutionnelle à utiliser (par défaut \"conv2d_21\").\n",
    "      - pixel_of_interest : tuple (i, j) optionnel pour sélectionner un pixel (h, w) dans la prédiction\n",
    "                            sur lequel se baser pour calculer Grad-CAM. \n",
    "                            Par défaut, on prendra le pixel central.\n",
    "    \n",
    "    Renvoie :\n",
    "      - heatmap   : la carte Grad-CAM sous forme de tableau NumPy (shape = (H_conv, W_conv)).\n",
    "      - preds     : la prédiction du modèle final (utile pour vérifier la segmentation).\n",
    "    \"\"\"\n",
    "    \n",
    "    # Récupérer la couche cible\n",
    "    target_layer = model_obj.model1.get_layer(target_layer_name)\n",
    "    \n",
    "    # Construire le sous-modèle jusqu'à la couche cible\n",
    "    last_conv_layer_model = Model(inputs=model_obj.model1.input, outputs=target_layer.output)\n",
    "    \n",
    "    # Construire le \"classifier\" à partir de target_layer jusqu'à la sortie\n",
    "    x = tf.keras.Input(shape=target_layer.output.shape[1:])\n",
    "    y = x\n",
    "    # On prend toutes les couches après target_layer dans model_obj.model1\n",
    "    start_idx = model_obj.model1.layers.index(target_layer) + 1\n",
    "    for layer in model_obj.model1.layers[start_idx:]:\n",
    "        y = layer(y)\n",
    "    classifier_model = Model(inputs=x, outputs=y)\n",
    "    \n",
    "    # Si aucun pixel d'intérêt n'est spécifié, prendre celui du centre de la prédiction\n",
    "    with tf.GradientTape() as tape:\n",
    "        # Passage dans le sous-modèle de la couche cible\n",
    "        conv_output = last_conv_layer_model(img)  # forme : (1, H_conv, W_conv, channels)\n",
    "        tape.watch(conv_output)\n",
    "        \n",
    "        preds = classifier_model(conv_output)  # sortie de la segmentation, par exemple (1, H_out, W_out, 1)\n",
    "        \n",
    "        # Choix du pixel de référence sur lequel calculer le gradient.\n",
    "        # Pour la segmentation, il peut être pertinent de prendre le pixel central de la carte de prédiction\n",
    "        if pixel_of_interest is None:\n",
    "            # On suppose qu'on a une unique carte de segmentation (1 canal) et on prend le centre de la carte de prédiction\n",
    "            H_out, W_out = preds.shape[1], preds.shape[2]\n",
    "            i, j = H_out // 2, W_out // 2\n",
    "        else:\n",
    "            i, j = pixel_of_interest\n",
    "        \n",
    "        # Extraire la valeur (le score) de la prédiction en ce point\n",
    "        # preds est de forme (1, H_out, W_out, channels); on prend par exemple le canal 0 si c'est binaire\n",
    "        top_class_channel = preds[0, i, j, 0]\n",
    "    \n",
    "    # Calcul du gradient de ce score par rapport à la sortie de la couche cible\n",
    "    grads = tape.gradient(top_class_channel, conv_output)\n",
    "    \n",
    "    # Calcul de la moyenne (pooled) sur les dimensions spatiales\n",
    "    pooled_grads = tf.reduce_mean(grads, axis=(0, 1, 2))   # forme : (channels,)\n",
    "    \n",
    "    # Extraire la sortie de la couche cible (pour le premier élément du batch)\n",
    "    conv_output = conv_output[0]   # forme : (H_conv, W_conv, channels)\n",
    "    \n",
    "    # Faire une pondération canal par canal\n",
    "    heatmap = conv_output * pooled_grads  # broadcast sur le canal\n",
    "    heatmap = tf.reduce_sum(heatmap, axis=-1)  # somme pondérée sur les canaux\n",
    "    \n",
    "    # Appliquer ReLU et normaliser la heatmap\n",
    "    heatmap = tf.nn.relu(heatmap)\n",
    "    if tf.reduce_max(heatmap) > 0:\n",
    "        heatmap /= tf.reduce_max(heatmap)\n",
    "    heatmap = heatmap.numpy()\n",
    "    \n",
    "    return heatmap, preds\n"
   ]
  },
  {
   "cell_type": "code",
   "execution_count": 22,
   "id": "d788e420",
   "metadata": {},
   "outputs": [
    {
     "ename": "ValueError",
     "evalue": "Input 0 of layer \"model_6\" is incompatible with the layer: expected shape=(None, 512, 512, 1), found shape=(1, 38, 512, 512)",
     "output_type": "error",
     "traceback": [
      "\u001b[0;31m---------------------------------------------------------------------------\u001b[0m",
      "\u001b[0;31mValueError\u001b[0m                                Traceback (most recent call last)",
      "Cell \u001b[0;32mIn[22], line 2\u001b[0m\n\u001b[1;32m      1\u001b[0m \u001b[38;5;66;03m# Générer Grad-CAM\u001b[39;00m\n\u001b[0;32m----> 2\u001b[0m heatmap, preds \u001b[38;5;241m=\u001b[39m \u001b[43mgenerate_segmentation_gradcam\u001b[49m\u001b[43m(\u001b[49m\u001b[43mmodel\u001b[49m\u001b[43m,\u001b[49m\u001b[43m \u001b[49m\u001b[43mimg\u001b[49m\u001b[43m,\u001b[49m\u001b[43m \u001b[49m\u001b[43mtarget_layer_name\u001b[49m\u001b[38;5;241;43m=\u001b[39;49m\u001b[38;5;124;43m\"\u001b[39;49m\u001b[38;5;124;43mconv2d_21\u001b[39;49m\u001b[38;5;124;43m\"\u001b[39;49m\u001b[43m)\u001b[49m\n\u001b[1;32m      4\u001b[0m \u001b[38;5;66;03m# Affichage : superposition de la heatmap sur la slice d'origine\u001b[39;00m\n\u001b[1;32m      5\u001b[0m plt\u001b[38;5;241m.\u001b[39mfigure(figsize\u001b[38;5;241m=\u001b[39m(\u001b[38;5;241m8\u001b[39m, \u001b[38;5;241m8\u001b[39m))\n",
      "Cell \u001b[0;32mIn[21], line 36\u001b[0m, in \u001b[0;36mgenerate_segmentation_gradcam\u001b[0;34m(model_obj, img, target_layer_name, pixel_of_interest)\u001b[0m\n\u001b[1;32m     33\u001b[0m \u001b[38;5;66;03m# Si aucun pixel d'intérêt n'est spécifié, prendre celui du centre de la prédiction\u001b[39;00m\n\u001b[1;32m     34\u001b[0m \u001b[38;5;28;01mwith\u001b[39;00m tf\u001b[38;5;241m.\u001b[39mGradientTape() \u001b[38;5;28;01mas\u001b[39;00m tape:\n\u001b[1;32m     35\u001b[0m     \u001b[38;5;66;03m# Passage dans le sous-modèle de la couche cible\u001b[39;00m\n\u001b[0;32m---> 36\u001b[0m     conv_output \u001b[38;5;241m=\u001b[39m \u001b[43mlast_conv_layer_model\u001b[49m\u001b[43m(\u001b[49m\u001b[43mimg\u001b[49m\u001b[43m)\u001b[49m  \u001b[38;5;66;03m# forme : (1, H_conv, W_conv, channels)\u001b[39;00m\n\u001b[1;32m     37\u001b[0m     tape\u001b[38;5;241m.\u001b[39mwatch(conv_output)\n\u001b[1;32m     39\u001b[0m     preds \u001b[38;5;241m=\u001b[39m classifier_model(conv_output)  \u001b[38;5;66;03m# sortie de la segmentation, par exemple (1, H_out, W_out, 1)\u001b[39;00m\n",
      "File \u001b[0;32m/opt/anaconda3/envs/lung_env/lib/python3.10/site-packages/keras/src/utils/traceback_utils.py:70\u001b[0m, in \u001b[0;36mfilter_traceback.<locals>.error_handler\u001b[0;34m(*args, **kwargs)\u001b[0m\n\u001b[1;32m     67\u001b[0m     filtered_tb \u001b[38;5;241m=\u001b[39m _process_traceback_frames(e\u001b[38;5;241m.\u001b[39m__traceback__)\n\u001b[1;32m     68\u001b[0m     \u001b[38;5;66;03m# To get the full stack trace, call:\u001b[39;00m\n\u001b[1;32m     69\u001b[0m     \u001b[38;5;66;03m# `tf.debugging.disable_traceback_filtering()`\u001b[39;00m\n\u001b[0;32m---> 70\u001b[0m     \u001b[38;5;28;01mraise\u001b[39;00m e\u001b[38;5;241m.\u001b[39mwith_traceback(filtered_tb) \u001b[38;5;28;01mfrom\u001b[39;00m\u001b[38;5;250m \u001b[39m\u001b[38;5;28;01mNone\u001b[39;00m\n\u001b[1;32m     71\u001b[0m \u001b[38;5;28;01mfinally\u001b[39;00m:\n\u001b[1;32m     72\u001b[0m     \u001b[38;5;28;01mdel\u001b[39;00m filtered_tb\n",
      "File \u001b[0;32m/opt/anaconda3/envs/lung_env/lib/python3.10/site-packages/keras/src/engine/input_spec.py:298\u001b[0m, in \u001b[0;36massert_input_compatibility\u001b[0;34m(input_spec, inputs, layer_name)\u001b[0m\n\u001b[1;32m    296\u001b[0m \u001b[38;5;28;01mif\u001b[39;00m spec_dim \u001b[38;5;129;01mis\u001b[39;00m \u001b[38;5;129;01mnot\u001b[39;00m \u001b[38;5;28;01mNone\u001b[39;00m \u001b[38;5;129;01mand\u001b[39;00m dim \u001b[38;5;129;01mis\u001b[39;00m \u001b[38;5;129;01mnot\u001b[39;00m \u001b[38;5;28;01mNone\u001b[39;00m:\n\u001b[1;32m    297\u001b[0m     \u001b[38;5;28;01mif\u001b[39;00m spec_dim \u001b[38;5;241m!=\u001b[39m dim:\n\u001b[0;32m--> 298\u001b[0m         \u001b[38;5;28;01mraise\u001b[39;00m \u001b[38;5;167;01mValueError\u001b[39;00m(\n\u001b[1;32m    299\u001b[0m             \u001b[38;5;124mf\u001b[39m\u001b[38;5;124m'\u001b[39m\u001b[38;5;124mInput \u001b[39m\u001b[38;5;132;01m{\u001b[39;00minput_index\u001b[38;5;132;01m}\u001b[39;00m\u001b[38;5;124m of layer \u001b[39m\u001b[38;5;124m\"\u001b[39m\u001b[38;5;132;01m{\u001b[39;00mlayer_name\u001b[38;5;132;01m}\u001b[39;00m\u001b[38;5;124m\"\u001b[39m\u001b[38;5;124m is \u001b[39m\u001b[38;5;124m'\u001b[39m\n\u001b[1;32m    300\u001b[0m             \u001b[38;5;124m\"\u001b[39m\u001b[38;5;124mincompatible with the layer: \u001b[39m\u001b[38;5;124m\"\u001b[39m\n\u001b[1;32m    301\u001b[0m             \u001b[38;5;124mf\u001b[39m\u001b[38;5;124m\"\u001b[39m\u001b[38;5;124mexpected shape=\u001b[39m\u001b[38;5;132;01m{\u001b[39;00mspec\u001b[38;5;241m.\u001b[39mshape\u001b[38;5;132;01m}\u001b[39;00m\u001b[38;5;124m, \u001b[39m\u001b[38;5;124m\"\u001b[39m\n\u001b[1;32m    302\u001b[0m             \u001b[38;5;124mf\u001b[39m\u001b[38;5;124m\"\u001b[39m\u001b[38;5;124mfound shape=\u001b[39m\u001b[38;5;132;01m{\u001b[39;00mdisplay_shape(x\u001b[38;5;241m.\u001b[39mshape)\u001b[38;5;132;01m}\u001b[39;00m\u001b[38;5;124m\"\u001b[39m\n\u001b[1;32m    303\u001b[0m         )\n",
      "\u001b[0;31mValueError\u001b[0m: Input 0 of layer \"model_6\" is incompatible with the layer: expected shape=(None, 512, 512, 1), found shape=(1, 38, 512, 512)"
     ]
    }
   ],
   "source": [
    "# Générer Grad-CAM\n",
    "heatmap, preds = generate_segmentation_gradcam(model, img, target_layer_name=\"conv2d_21\")\n",
    "\n",
    "# Affichage : superposition de la heatmap sur la slice d'origine\n",
    "plt.figure(figsize=(8, 8))\n",
    "plt.imshow(img[..., 0], cmap=\"gray\")\n",
    "# Redimensionne la heatmap pour qu'elle corresponde à l'image d'origine\n",
    "import cv2\n",
    "heatmap_resized = cv2.resize(heatmap, (img.shape[2], img.shape[1]))\n",
    "plt.imshow(heatmap_resized, cmap=\"jet\", alpha=0.5)\n",
    "plt.title(\"Grad-CAM Heatmap (Segmentation)\")\n",
    "plt.axis('off')\n",
    "plt.show()"
   ]
  }
 ],
 "metadata": {
  "kernelspec": {
   "display_name": "lung_env",
   "language": "python",
   "name": "python3"
  },
  "language_info": {
   "codemirror_mode": {
    "name": "ipython",
    "version": 3
   },
   "file_extension": ".py",
   "mimetype": "text/x-python",
   "name": "python",
   "nbconvert_exporter": "python",
   "pygments_lexer": "ipython3",
   "version": "3.10.17"
  }
 },
 "nbformat": 4,
 "nbformat_minor": 5
}
