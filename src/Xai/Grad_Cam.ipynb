{
 "cells": [
  {
   "cell_type": "markdown",
   "id": "f6d652d9",
   "metadata": {},
   "source": [
    "# Xai _ Grad-Cam (TF)"
   ]
  },
  {
   "cell_type": "code",
   "execution_count": 69,
   "id": "5fbbb18f",
   "metadata": {},
   "outputs": [],
   "source": [
    "import sys\n",
    "sys.path.append('/Users/constance/Documents/Project_lung_cancer/src/Segmentation')\n",
    "from TheDuneAI import ContourPilot as cp\n",
    "import tensorflow as tf\n",
    "import numpy as np\n",
    "from tensorflow.keras.models import Model\n",
    "import matplotlib.pyplot as plt\n",
    "%matplotlib inline\n",
    "from tqdm import tqdm\n",
    "import cv2\n",
    "\n",
    "# Imports for Xplique\n",
    "import requests\n",
    "from PIL import Image\n",
    "BATCH_SIZE = 8\n",
    "import torch\n",
    "from torchvision.transforms.functional import to_pil_image, to_tensor, resize\n",
    "device = torch.device(\"cuda\" if torch.cuda.is_available() else \"cpu\")\n",
    "import xplique\n"
   ]
  },
  {
   "cell_type": "code",
   "execution_count": 61,
   "id": "eda1150f",
   "metadata": {},
   "outputs": [],
   "source": [
    "model_path = '/Users/constance/Documents/Project_lung_cancer/src/Segmentation/model_files/'\n",
    "path_to_test_data = '/Users/constance/Documents/Project_lung_cancer/NIH dataset_raw/NRRD/converted_nrrds/'\n",
    "save_path = '/Users/constance/Documents/Project_lung_cancer/NIH dataset_raw/Processed'"
   ]
  },
  {
   "cell_type": "code",
   "execution_count": 62,
   "id": "cf4351f5",
   "metadata": {},
   "outputs": [
    {
     "name": "stderr",
     "output_type": "stream",
     "text": [
      "100%|██████████| 299/299 [00:00<00:00, 5059.74it/s]"
     ]
    },
    {
     "name": "stdout",
     "output_type": "stream",
     "text": [
      "299  Patients found\n",
      "Epoch end\n",
      "------- Loading patients in predict mode -------\n",
      "0 input_1 InputLayer\n",
      "1 conv2d_1 Conv2D\n",
      "2 conv2d_2 Conv2D\n",
      "3 max_pooling2d_1 MaxPooling2D\n",
      "4 conv2d_3 Conv2D\n",
      "5 conv2d_4 Conv2D\n",
      "6 max_pooling2d_2 MaxPooling2D\n",
      "7 conv2d_5 Conv2D\n",
      "8 conv2d_6 Conv2D\n",
      "9 max_pooling2d_3 MaxPooling2D\n",
      "10 conv2d_7 Conv2D\n",
      "11 conv2d_8 Conv2D\n",
      "12 dropout_1 Dropout\n",
      "13 max_pooling2d_4 MaxPooling2D\n",
      "14 conv2d_9 Conv2D\n",
      "15 conv2d_10 Conv2D\n",
      "16 dropout_2 Dropout\n",
      "17 up_sampling2d_1 UpSampling2D\n",
      "18 conv2d_11 Conv2D\n",
      "19 concatenate_1 Concatenate\n",
      "20 conv2d_12 Conv2D\n",
      "21 conv2d_13 Conv2D\n",
      "22 up_sampling2d_2 UpSampling2D\n",
      "23 conv2d_14 Conv2D\n",
      "24 concatenate_2 Concatenate\n",
      "25 conv2d_15 Conv2D\n",
      "26 conv2d_16 Conv2D\n",
      "27 up_sampling2d_3 UpSampling2D\n",
      "28 conv2d_17 Conv2D\n",
      "29 concatenate_3 Concatenate\n",
      "30 conv2d_18 Conv2D\n",
      "31 conv2d_19 Conv2D\n",
      "32 up_sampling2d_4 UpSampling2D\n",
      "33 conv2d_20 Conv2D\n",
      "34 concatenate_4 Concatenate\n",
      "35 conv2d_21 Conv2D\n",
      "36 conv2d_22 Conv2D\n",
      "37 conv2d_23 Conv2D\n",
      "38 conv2d_24 Conv2D\n"
     ]
    },
    {
     "name": "stderr",
     "output_type": "stream",
     "text": [
      "\n"
     ]
    }
   ],
   "source": [
    "model = cp(model_path,path_to_test_data,save_path,verbosity=True)\n",
    "for i, layer in enumerate(model.model1.layers):\n",
    "        print(i, layer.name, layer.__class__.__name__)\n"
   ]
  },
  {
   "cell_type": "code",
   "execution_count": 63,
   "id": "bfaed4f7",
   "metadata": {},
   "outputs": [
    {
     "name": "stderr",
     "output_type": "stream",
     "text": [
      "Progress:   0%|          | 0/299 [01:24<?, ?it/s]\n"
     ]
    },
    {
     "name": "stdout",
     "output_type": "stream",
     "text": [
      "(44, 512, 512)\n",
      "Window limits  -1000 150.0\n",
      "Amount of unique values, original img:  1151 resampled img:  46\n",
      "(1, 38, 512, 512)\n",
      "Image shape: (1, 38, 512, 512)\n",
      "Image shape after squeeze: (38, 512, 512)\n",
      "Middle slice index: 19\n",
      "38/38 [==============================] - 53s 1s/step\n"
     ]
    }
   ],
   "source": [
    "gen_with_progress = tqdm(model.Patients_gen, desc='Progress')\n",
    "gen_iterator = iter(gen_with_progress)  # <-- transformer en itérateur\n",
    "img, _, filename, params = next(gen_iterator)\n",
    "print(img.shape) \n",
    "\n",
    "# Select the middle slice of the 3D image\n",
    "print(f\"Image shape: {img.shape}\") \n",
    "img=img.squeeze()  \n",
    "print(f\"Image shape after squeeze: {img.shape}\") \n",
    "# --- Select the middle slice ---\n",
    "middle_index = img.shape[0] // 2\n",
    "print(f\"Middle slice index: {middle_index}\")\n",
    "middle_slice = img[middle_index, :, :]  # shape: (512, 512)\n",
    "\n",
    "mask = model.model1.predict(img, batch_size=1, verbose=1)\n"
   ]
  },
  {
   "cell_type": "markdown",
   "id": "86e70402",
   "metadata": {},
   "source": [
    "# Grad-cam (basic version)"
   ]
  },
  {
   "cell_type": "code",
   "execution_count": 64,
   "id": "cadf8e43",
   "metadata": {},
   "outputs": [],
   "source": [
    "def compute_gradcam(model, image, target_layer_name):\n",
    "    grad_model = tf.keras.models.Model(\n",
    "        [model.input],\n",
    "        [model.get_layer(target_layer_name).output, model.output]\n",
    "    )\n",
    "\n",
    "    with tf.GradientTape() as tape:\n",
    "        conv_outputs, predictions = grad_model(np.expand_dims(image, axis=0))\n",
    "        # Use mean prediction over the output map for loss\n",
    "        loss = tf.reduce_mean(predictions)\n",
    "\n",
    "    grads = tape.gradient(loss, conv_outputs)[0]\n",
    "    conv_outputs = conv_outputs[0]\n",
    "\n",
    "    weights = tf.reduce_mean(grads, axis=(0, 1))\n",
    "    cam = np.zeros(conv_outputs.shape[:2], dtype=np.float32)\n",
    "\n",
    "    for i, w in enumerate(weights):\n",
    "        cam += w * conv_outputs[:, :, i]\n",
    "\n",
    "    cam = np.maximum(cam, 0)\n",
    "    cam = cam / (np.max(cam) + 1e-8)\n",
    "    cam = cv2.resize(cam, (image.shape[1], image.shape[0]))\n",
    "    \n",
    "    return cam\n",
    "\n",
    "def show_gradcam_overlay(image, cam, alpha=0.4):\n",
    "    heatmap = cv2.applyColorMap(np.uint8(255 * cam), cv2.COLORMAP_JET)\n",
    "    # Convert grayscale to BGR (3 channels)\n",
    "    if len(image.shape) == 2:\n",
    "        image_color = cv2.cvtColor(np.uint8(image * 255), cv2.COLOR_GRAY2BGR)\n",
    "    else:\n",
    "        image_color = np.uint8(image * 255)\n",
    "    overlay = cv2.addWeighted(image_color, 1-alpha, heatmap, alpha, 0)\n",
    "    plt.figure(figsize=(6,6))\n",
    "    plt.imshow(overlay)\n",
    "    plt.axis('off')\n",
    "    plt.title(\"Grad-CAM Overlay\")\n",
    "    plt.show()\n"
   ]
  },
  {
   "cell_type": "code",
   "execution_count": 65,
   "id": "60ae0ffa",
   "metadata": {},
   "outputs": [
    {
     "name": "stdout",
     "output_type": "stream",
     "text": [
      "Middle slice shape: (512, 512)\n"
     ]
    },
    {
     "data": {
      "image/png": "[encoded data removed]",
      "text/plain": [
       "<Figure size 600x600 with 1 Axes>"
      ]
     },
     "metadata": {},
     "output_type": "display_data"
    }
   ],
   "source": [
    "print(f\"Middle slice shape: {middle_slice.shape}\")\n",
    "# --- Prepare the slice for the model ---\n",
    "input_slice = middle_slice.reshape(512, 512, 1).astype(np.float32)\n",
    "\n",
    "# --- Compute Grad-CAM ---\n",
    "cam = compute_gradcam(model.model1, input_slice, target_layer_name=\"conv2d_23\")\n",
    "\n",
    "# --- Visualize overlay ---\n",
    "show_gradcam_overlay(input_slice.squeeze(), cam)"
   ]
  },
  {
   "cell_type": "markdown",
   "id": "615cbb8c",
   "metadata": {},
   "source": [
    "# Xplique "
   ]
  },
  {
   "cell_type": "code",
   "execution_count": 84,
   "id": "68957833",
   "metadata": {},
   "outputs": [],
   "source": [
    "class ModelWrapper(torch.nn.Module):\n",
    "    # WARNING: `torch.nn.Module` specific to pytorch\n",
    "    # `tf.keras.Model` instead for tensorflow models\n",
    "\n",
    "    def __init__(self, model):\n",
    "        super(ModelWrapper, self).__init__()\n",
    "        #self.model = model.eval()\n",
    "        self.model = model\n",
    "\n",
    "    def __call__(self, torch_inputs):\n",
    "        # this method should change depending on the model\n",
    "        return torch.softmax(\n",
    "            self.model(torch_inputs)[\"out\"].permute([0, 2, 3, 1]),\n",
    "            dim=-1)\n",
    "\n",
    "    def to(self, device):\n",
    "        # WARNING: specific to pytorch\n",
    "        self.model.to(device)\n",
    "        return self\n",
    "\n",
    "    def zero_grad(self):\n",
    "        # WARNING: specific to pytorch\n",
    "        self.model.zero_grad()\n",
    "        return self\n",
    "\n",
    "segmentation_model = ModelWrapper(model.model1)"
   ]
  },
  {
   "cell_type": "code",
   "execution_count": 85,
   "id": "f94395b7",
   "metadata": {},
   "outputs": [
    {
     "name": "stdout",
     "output_type": "stream",
     "text": [
      "Saliency\n"
     ]
    },
    {
     "ename": "TypeError",
     "evalue": "in user code:\n\n    File \"/opt/anaconda3/envs/lung_env/lib/python3.10/site-packages/xplique/commons/operators_operations.py\", line 168, in gradient  *\n        scores = operator(model, inputs, targets)\n    File \"/opt/anaconda3/envs/lung_env/lib/python3.10/site-packages/xplique/commons/operators.py\", line 93, in semantic_segmentation_operator  *\n        scores = model(inputs) * targets\n    File \"/var/folders/dh/h5slh_zs525fbsjj29cgqmth0000gn/T/ipykernel_9377/492652786.py\", line 14, in __call__  *\n        dim=-1)\n\n    TypeError: Only integers, slices (`:`), ellipsis (`...`), tf.newaxis (`None`) and scalar tf.int32/tf.int64 tensors are valid indices, got 'out'\n",
     "output_type": "error",
     "traceback": [
      "\u001b[0;31m---------------------------------------------------------------------------\u001b[0m",
      "\u001b[0;31mTypeError\u001b[0m                                 Traceback (most recent call last)",
      "Cell \u001b[0;32mIn[85], line 32\u001b[0m\n\u001b[1;32m     28\u001b[0m explainer \u001b[38;5;241m=\u001b[39m explainer_class(segmentation_model, operator\u001b[38;5;241m=\u001b[39mxplique\u001b[38;5;241m.\u001b[39mTasks\u001b[38;5;241m.\u001b[39mSEMANTIC_SEGMENTATION,\n\u001b[1;32m     29\u001b[0m                             batch_size\u001b[38;5;241m=\u001b[39m\u001b[38;5;241m1\u001b[39m, \u001b[38;5;241m*\u001b[39m\u001b[38;5;241m*\u001b[39mparams)\n\u001b[1;32m     31\u001b[0m \u001b[38;5;66;03m# compute explanations\u001b[39;00m\n\u001b[0;32m---> 32\u001b[0m explanation \u001b[38;5;241m=\u001b[39m \u001b[43mexplainer\u001b[49m\u001b[43m(\u001b[49m\u001b[43mimg\u001b[49m\u001b[43m,\u001b[49m\u001b[43m \u001b[49m\u001b[43mmask\u001b[49m\u001b[43m)\u001b[49m\n\u001b[1;32m     34\u001b[0m \u001b[38;5;66;03m# show explanations for a method\u001b[39;00m\n\u001b[1;32m     35\u001b[0m plot_attributions(explanation, images_with_masks,\n\u001b[1;32m     36\u001b[0m                   img_size\u001b[38;5;241m=\u001b[39m\u001b[38;5;241m4.\u001b[39m, cols\u001b[38;5;241m=\u001b[39mimages\u001b[38;5;241m.\u001b[39mshape[\u001b[38;5;241m0\u001b[39m],\n\u001b[1;32m     37\u001b[0m                   cmap\u001b[38;5;241m=\u001b[39m\u001b[38;5;124m'\u001b[39m\u001b[38;5;124mjet\u001b[39m\u001b[38;5;124m'\u001b[39m, alpha\u001b[38;5;241m=\u001b[39m\u001b[38;5;241m0.3\u001b[39m, absolute_value\u001b[38;5;241m=\u001b[39m\u001b[38;5;28;01mFalse\u001b[39;00m, clip_percentile\u001b[38;5;241m=\u001b[39m\u001b[38;5;241m0.5\u001b[39m)\n",
      "File \u001b[0;32m/opt/anaconda3/envs/lung_env/lib/python3.10/site-packages/xplique/attributions/base.py:113\u001b[0m, in \u001b[0;36mBlackBoxExplainer.__call__\u001b[0;34m(self, inputs, labels)\u001b[0m\n\u001b[1;32m    109\u001b[0m \u001b[38;5;28;01mdef\u001b[39;00m\u001b[38;5;250m \u001b[39m\u001b[38;5;21m__call__\u001b[39m(\u001b[38;5;28mself\u001b[39m,\n\u001b[1;32m    110\u001b[0m              inputs: tf\u001b[38;5;241m.\u001b[39mTensor,\n\u001b[1;32m    111\u001b[0m              labels: tf\u001b[38;5;241m.\u001b[39mTensor) \u001b[38;5;241m-\u001b[39m\u001b[38;5;241m>\u001b[39m tf\u001b[38;5;241m.\u001b[39mTensor:\n\u001b[1;32m    112\u001b[0m \u001b[38;5;250m    \u001b[39m\u001b[38;5;124;03m\"\"\"Explain alias\"\"\"\u001b[39;00m\n\u001b[0;32m--> 113\u001b[0m     \u001b[38;5;28;01mreturn\u001b[39;00m \u001b[38;5;28;43mself\u001b[39;49m\u001b[38;5;241;43m.\u001b[39;49m\u001b[43mexplain\u001b[49m\u001b[43m(\u001b[49m\u001b[43minputs\u001b[49m\u001b[43m,\u001b[49m\u001b[43m \u001b[49m\u001b[43mlabels\u001b[49m\u001b[43m)\u001b[49m\n",
      "File \u001b[0;32m/opt/anaconda3/envs/lung_env/lib/python3.10/site-packages/xplique/attributions/base.py:32\u001b[0m, in \u001b[0;36msanitize_input_output.<locals>.sanitize\u001b[0;34m(self, inputs, targets, *args)\u001b[0m\n\u001b[1;32m     30\u001b[0m inputs, targets \u001b[38;5;241m=\u001b[39m tensor_sanitize(inputs, targets)\n\u001b[1;32m     31\u001b[0m \u001b[38;5;66;03m# then enter the explanation function\u001b[39;00m\n\u001b[0;32m---> 32\u001b[0m \u001b[38;5;28;01mreturn\u001b[39;00m \u001b[43mexplanation_method\u001b[49m\u001b[43m(\u001b[49m\u001b[38;5;28;43mself\u001b[39;49m\u001b[43m,\u001b[49m\u001b[43m \u001b[49m\u001b[43minputs\u001b[49m\u001b[43m,\u001b[49m\u001b[43m \u001b[49m\u001b[43mtargets\u001b[49m\u001b[43m,\u001b[49m\u001b[43m \u001b[49m\u001b[38;5;241;43m*\u001b[39;49m\u001b[43margs\u001b[49m\u001b[43m)\u001b[49m\n",
      "File \u001b[0;32m/opt/anaconda3/envs/lung_env/lib/python3.10/site-packages/xplique/attributions/base.py:221\u001b[0m, in \u001b[0;36mWhiteBoxExplainer._harmonize_channel_dimension.<locals>.explain\u001b[0;34m(self, inputs, targets)\u001b[0m\n\u001b[1;32m    196\u001b[0m \u001b[38;5;28;01mdef\u001b[39;00m\u001b[38;5;250m \u001b[39m\u001b[38;5;21mexplain\u001b[39m(\u001b[38;5;28mself\u001b[39m,\n\u001b[1;32m    197\u001b[0m             inputs: Union[tf\u001b[38;5;241m.\u001b[39mdata\u001b[38;5;241m.\u001b[39mDataset, tf\u001b[38;5;241m.\u001b[39mTensor, np\u001b[38;5;241m.\u001b[39marray],\n\u001b[1;32m    198\u001b[0m             targets: Optional[Union[tf\u001b[38;5;241m.\u001b[39mTensor, np\u001b[38;5;241m.\u001b[39marray]] \u001b[38;5;241m=\u001b[39m \u001b[38;5;28;01mNone\u001b[39;00m) \u001b[38;5;241m-\u001b[39m\u001b[38;5;241m>\u001b[39m tf\u001b[38;5;241m.\u001b[39mTensor:\n\u001b[1;32m    199\u001b[0m \u001b[38;5;250m    \u001b[39m\u001b[38;5;124;03m\"\"\"\u001b[39;00m\n\u001b[1;32m    200\u001b[0m \u001b[38;5;124;03m    Compute the explanations of the given inputs.\u001b[39;00m\n\u001b[1;32m    201\u001b[0m \u001b[38;5;124;03m    Accept Tensor, numpy array or tf.data.Dataset (in that case targets is None)\u001b[39;00m\n\u001b[0;32m   (...)\u001b[0m\n\u001b[1;32m    219\u001b[0m \u001b[38;5;124;03m        Explanation generated by the method.\u001b[39;00m\n\u001b[1;32m    220\u001b[0m \u001b[38;5;124;03m    \"\"\"\u001b[39;00m\n\u001b[0;32m--> 221\u001b[0m     explanations \u001b[38;5;241m=\u001b[39m \u001b[43mexplain_method\u001b[49m\u001b[43m(\u001b[49m\u001b[38;5;28;43mself\u001b[39;49m\u001b[43m,\u001b[49m\u001b[43m \u001b[49m\u001b[43minputs\u001b[49m\u001b[43m,\u001b[49m\u001b[43m \u001b[49m\u001b[43mtargets\u001b[49m\u001b[43m)\u001b[49m\n\u001b[1;32m    223\u001b[0m     \u001b[38;5;28;01mif\u001b[39;00m \u001b[38;5;28mlen\u001b[39m(explanations\u001b[38;5;241m.\u001b[39mshape) \u001b[38;5;241m==\u001b[39m \u001b[38;5;241m3\u001b[39m \u001b[38;5;129;01mand\u001b[39;00m \u001b[38;5;28mlen\u001b[39m(inputs\u001b[38;5;241m.\u001b[39mshape) \u001b[38;5;241m==\u001b[39m \u001b[38;5;241m4\u001b[39m:\n\u001b[1;32m    224\u001b[0m         explanations \u001b[38;5;241m=\u001b[39m tf\u001b[38;5;241m.\u001b[39mexpand_dims(explanations, axis\u001b[38;5;241m=\u001b[39m\u001b[38;5;241m-\u001b[39m\u001b[38;5;241m1\u001b[39m)\n",
      "File \u001b[0;32m/opt/anaconda3/envs/lung_env/lib/python3.10/site-packages/xplique/attributions/saliency.py:84\u001b[0m, in \u001b[0;36mSaliency.explain\u001b[0;34m(self, inputs, targets)\u001b[0m\n\u001b[1;32m     58\u001b[0m \u001b[38;5;129m@sanitize_input_output\u001b[39m\n\u001b[1;32m     59\u001b[0m \u001b[38;5;129m@WhiteBoxExplainer\u001b[39m\u001b[38;5;241m.\u001b[39m_harmonize_channel_dimension\n\u001b[1;32m     60\u001b[0m \u001b[38;5;28;01mdef\u001b[39;00m\u001b[38;5;250m \u001b[39m\u001b[38;5;21mexplain\u001b[39m(\u001b[38;5;28mself\u001b[39m,\n\u001b[1;32m     61\u001b[0m             inputs: Union[tf\u001b[38;5;241m.\u001b[39mdata\u001b[38;5;241m.\u001b[39mDataset, tf\u001b[38;5;241m.\u001b[39mTensor, np\u001b[38;5;241m.\u001b[39mndarray],\n\u001b[1;32m     62\u001b[0m             targets: Optional[Union[tf\u001b[38;5;241m.\u001b[39mTensor, np\u001b[38;5;241m.\u001b[39mndarray]] \u001b[38;5;241m=\u001b[39m \u001b[38;5;28;01mNone\u001b[39;00m) \u001b[38;5;241m-\u001b[39m\u001b[38;5;241m>\u001b[39m tf\u001b[38;5;241m.\u001b[39mTensor:\n\u001b[1;32m     63\u001b[0m \u001b[38;5;250m    \u001b[39m\u001b[38;5;124;03m\"\"\"\u001b[39;00m\n\u001b[1;32m     64\u001b[0m \u001b[38;5;124;03m    Compute saliency maps for a batch of samples.\u001b[39;00m\n\u001b[1;32m     65\u001b[0m \n\u001b[0;32m   (...)\u001b[0m\n\u001b[1;32m     82\u001b[0m \u001b[38;5;124;03m        Saliency maps.\u001b[39;00m\n\u001b[1;32m     83\u001b[0m \u001b[38;5;124;03m    \"\"\"\u001b[39;00m\n\u001b[0;32m---> 84\u001b[0m     gradients \u001b[38;5;241m=\u001b[39m \u001b[38;5;28;43mself\u001b[39;49m\u001b[38;5;241;43m.\u001b[39;49m\u001b[43mbatch_gradient\u001b[49m\u001b[43m(\u001b[49m\u001b[38;5;28;43mself\u001b[39;49m\u001b[38;5;241;43m.\u001b[39;49m\u001b[43mmodel\u001b[49m\u001b[43m,\u001b[49m\u001b[43m \u001b[49m\u001b[43minputs\u001b[49m\u001b[43m,\u001b[49m\u001b[43m \u001b[49m\u001b[43mtargets\u001b[49m\u001b[43m,\u001b[49m\u001b[43m \u001b[49m\u001b[38;5;28;43mself\u001b[39;49m\u001b[38;5;241;43m.\u001b[39;49m\u001b[43mbatch_size\u001b[49m\u001b[43m)\u001b[49m\n\u001b[1;32m     85\u001b[0m     gradients \u001b[38;5;241m=\u001b[39m tf\u001b[38;5;241m.\u001b[39mabs(gradients)\n\u001b[1;32m     87\u001b[0m     \u001b[38;5;28;01mreturn\u001b[39;00m gradients\n",
      "File \u001b[0;32m/opt/anaconda3/envs/lung_env/lib/python3.10/site-packages/xplique/commons/operators_operations.py:193\u001b[0m, in \u001b[0;36moperator_batching.<locals>.batched_operator\u001b[0;34m(model, inputs, targets, batch_size)\u001b[0m\n\u001b[1;32m    191\u001b[0m \u001b[38;5;28;01mif\u001b[39;00m batch_size \u001b[38;5;129;01mis\u001b[39;00m \u001b[38;5;129;01mnot\u001b[39;00m \u001b[38;5;28;01mNone\u001b[39;00m:\n\u001b[1;32m    192\u001b[0m     dataset \u001b[38;5;241m=\u001b[39m tf\u001b[38;5;241m.\u001b[39mdata\u001b[38;5;241m.\u001b[39mDataset\u001b[38;5;241m.\u001b[39mfrom_tensor_slices((inputs, targets))\n\u001b[0;32m--> 193\u001b[0m     results \u001b[38;5;241m=\u001b[39m tf\u001b[38;5;241m.\u001b[39mconcat([\n\u001b[1;32m    194\u001b[0m         operator(model, x, y)\n\u001b[1;32m    195\u001b[0m         \u001b[38;5;28;01mfor\u001b[39;00m x, y \u001b[38;5;129;01min\u001b[39;00m dataset\u001b[38;5;241m.\u001b[39mbatch(batch_size)\n\u001b[1;32m    196\u001b[0m     ], axis\u001b[38;5;241m=\u001b[39m\u001b[38;5;241m0\u001b[39m)\n\u001b[1;32m    197\u001b[0m \u001b[38;5;28;01melse\u001b[39;00m:\n\u001b[1;32m    198\u001b[0m     results \u001b[38;5;241m=\u001b[39m operator(model, inputs, targets)\n",
      "File \u001b[0;32m/opt/anaconda3/envs/lung_env/lib/python3.10/site-packages/xplique/commons/operators_operations.py:194\u001b[0m, in \u001b[0;36m<listcomp>\u001b[0;34m(.0)\u001b[0m\n\u001b[1;32m    191\u001b[0m \u001b[38;5;28;01mif\u001b[39;00m batch_size \u001b[38;5;129;01mis\u001b[39;00m \u001b[38;5;129;01mnot\u001b[39;00m \u001b[38;5;28;01mNone\u001b[39;00m:\n\u001b[1;32m    192\u001b[0m     dataset \u001b[38;5;241m=\u001b[39m tf\u001b[38;5;241m.\u001b[39mdata\u001b[38;5;241m.\u001b[39mDataset\u001b[38;5;241m.\u001b[39mfrom_tensor_slices((inputs, targets))\n\u001b[1;32m    193\u001b[0m     results \u001b[38;5;241m=\u001b[39m tf\u001b[38;5;241m.\u001b[39mconcat([\n\u001b[0;32m--> 194\u001b[0m         \u001b[43moperator\u001b[49m\u001b[43m(\u001b[49m\u001b[43mmodel\u001b[49m\u001b[43m,\u001b[49m\u001b[43m \u001b[49m\u001b[43mx\u001b[49m\u001b[43m,\u001b[49m\u001b[43m \u001b[49m\u001b[43my\u001b[49m\u001b[43m)\u001b[49m\n\u001b[1;32m    195\u001b[0m         \u001b[38;5;28;01mfor\u001b[39;00m x, y \u001b[38;5;129;01min\u001b[39;00m dataset\u001b[38;5;241m.\u001b[39mbatch(batch_size)\n\u001b[1;32m    196\u001b[0m     ], axis\u001b[38;5;241m=\u001b[39m\u001b[38;5;241m0\u001b[39m)\n\u001b[1;32m    197\u001b[0m \u001b[38;5;28;01melse\u001b[39;00m:\n\u001b[1;32m    198\u001b[0m     results \u001b[38;5;241m=\u001b[39m operator(model, inputs, targets)\n",
      "File \u001b[0;32m/opt/anaconda3/envs/lung_env/lib/python3.10/site-packages/tensorflow/python/util/traceback_utils.py:153\u001b[0m, in \u001b[0;36mfilter_traceback.<locals>.error_handler\u001b[0;34m(*args, **kwargs)\u001b[0m\n\u001b[1;32m    151\u001b[0m \u001b[38;5;28;01mexcept\u001b[39;00m \u001b[38;5;167;01mException\u001b[39;00m \u001b[38;5;28;01mas\u001b[39;00m e:\n\u001b[1;32m    152\u001b[0m   filtered_tb \u001b[38;5;241m=\u001b[39m _process_traceback_frames(e\u001b[38;5;241m.\u001b[39m__traceback__)\n\u001b[0;32m--> 153\u001b[0m   \u001b[38;5;28;01mraise\u001b[39;00m e\u001b[38;5;241m.\u001b[39mwith_traceback(filtered_tb) \u001b[38;5;28;01mfrom\u001b[39;00m\u001b[38;5;250m \u001b[39m\u001b[38;5;28;01mNone\u001b[39;00m\n\u001b[1;32m    154\u001b[0m \u001b[38;5;28;01mfinally\u001b[39;00m:\n\u001b[1;32m    155\u001b[0m   \u001b[38;5;28;01mdel\u001b[39;00m filtered_tb\n",
      "File \u001b[0;32m/var/folders/dh/h5slh_zs525fbsjj29cgqmth0000gn/T/__autograph_generated_filesu0z2z3b.py:13\u001b[0m, in \u001b[0;36mouter_factory.<locals>.inner_factory.<locals>.tf__gradient\u001b[0;34m(model, inputs, targets)\u001b[0m\n\u001b[1;32m     11\u001b[0m \u001b[38;5;28;01mwith\u001b[39;00m ag__\u001b[38;5;241m.\u001b[39mld(tf)\u001b[38;5;241m.\u001b[39mGradientTape() \u001b[38;5;28;01mas\u001b[39;00m tape:\n\u001b[1;32m     12\u001b[0m     ag__\u001b[38;5;241m.\u001b[39mconverted_call(ag__\u001b[38;5;241m.\u001b[39mld(tape)\u001b[38;5;241m.\u001b[39mwatch, (ag__\u001b[38;5;241m.\u001b[39mld(inputs),), \u001b[38;5;28;01mNone\u001b[39;00m, fscope)\n\u001b[0;32m---> 13\u001b[0m     scores \u001b[38;5;241m=\u001b[39m \u001b[43mag__\u001b[49m\u001b[38;5;241;43m.\u001b[39;49m\u001b[43mconverted_call\u001b[49m\u001b[43m(\u001b[49m\u001b[43mag__\u001b[49m\u001b[38;5;241;43m.\u001b[39;49m\u001b[43mld\u001b[49m\u001b[43m(\u001b[49m\u001b[43moperator\u001b[49m\u001b[43m)\u001b[49m\u001b[43m,\u001b[49m\u001b[43m \u001b[49m\u001b[43m(\u001b[49m\u001b[43mag__\u001b[49m\u001b[38;5;241;43m.\u001b[39;49m\u001b[43mld\u001b[49m\u001b[43m(\u001b[49m\u001b[43mmodel\u001b[49m\u001b[43m)\u001b[49m\u001b[43m,\u001b[49m\u001b[43m \u001b[49m\u001b[43mag__\u001b[49m\u001b[38;5;241;43m.\u001b[39;49m\u001b[43mld\u001b[49m\u001b[43m(\u001b[49m\u001b[43minputs\u001b[49m\u001b[43m)\u001b[49m\u001b[43m,\u001b[49m\u001b[43m \u001b[49m\u001b[43mag__\u001b[49m\u001b[38;5;241;43m.\u001b[39;49m\u001b[43mld\u001b[49m\u001b[43m(\u001b[49m\u001b[43mtargets\u001b[49m\u001b[43m)\u001b[49m\u001b[43m)\u001b[49m\u001b[43m,\u001b[49m\u001b[43m \u001b[49m\u001b[38;5;28;43;01mNone\u001b[39;49;00m\u001b[43m,\u001b[49m\u001b[43m \u001b[49m\u001b[43mfscope\u001b[49m\u001b[43m)\u001b[49m\n\u001b[1;32m     14\u001b[0m \u001b[38;5;28;01mtry\u001b[39;00m:\n\u001b[1;32m     15\u001b[0m     do_return \u001b[38;5;241m=\u001b[39m \u001b[38;5;28;01mTrue\u001b[39;00m\n",
      "File \u001b[0;32m/var/folders/dh/h5slh_zs525fbsjj29cgqmth0000gn/T/__autograph_generated_fileyvng1lvp.py:35\u001b[0m, in \u001b[0;36mouter_factory.<locals>.inner_factory.<locals>.tf__semantic_segmentation_operator\u001b[0;34m(model, inputs, targets)\u001b[0m\n\u001b[1;32m     33\u001b[0m do_return \u001b[38;5;241m=\u001b[39m \u001b[38;5;28;01mFalse\u001b[39;00m\n\u001b[1;32m     34\u001b[0m retval_ \u001b[38;5;241m=\u001b[39m ag__\u001b[38;5;241m.\u001b[39mUndefinedReturnValue()\n\u001b[0;32m---> 35\u001b[0m scores \u001b[38;5;241m=\u001b[39m \u001b[43mag__\u001b[49m\u001b[38;5;241;43m.\u001b[39;49m\u001b[43mconverted_call\u001b[49m\u001b[43m(\u001b[49m\u001b[43mag__\u001b[49m\u001b[38;5;241;43m.\u001b[39;49m\u001b[43mld\u001b[49m\u001b[43m(\u001b[49m\u001b[43mmodel\u001b[49m\u001b[43m)\u001b[49m\u001b[43m,\u001b[49m\u001b[43m \u001b[49m\u001b[43m(\u001b[49m\u001b[43mag__\u001b[49m\u001b[38;5;241;43m.\u001b[39;49m\u001b[43mld\u001b[49m\u001b[43m(\u001b[49m\u001b[43minputs\u001b[49m\u001b[43m)\u001b[49m\u001b[43m,\u001b[49m\u001b[43m)\u001b[49m\u001b[43m,\u001b[49m\u001b[43m \u001b[49m\u001b[38;5;28;43;01mNone\u001b[39;49;00m\u001b[43m,\u001b[49m\u001b[43m \u001b[49m\u001b[43mfscope\u001b[49m\u001b[43m)\u001b[49m \u001b[38;5;241m*\u001b[39m ag__\u001b[38;5;241m.\u001b[39mld(targets)\n\u001b[1;32m     36\u001b[0m \u001b[38;5;28;01mtry\u001b[39;00m:\n\u001b[1;32m     37\u001b[0m     do_return \u001b[38;5;241m=\u001b[39m \u001b[38;5;28;01mTrue\u001b[39;00m\n",
      "File \u001b[0;32m/var/folders/dh/h5slh_zs525fbsjj29cgqmth0000gn/T/__autograph_generated_filegensx5ai.py:12\u001b[0m, in \u001b[0;36mouter_factory.<locals>.inner_factory.<locals>.tf____call__\u001b[0;34m(self, torch_inputs)\u001b[0m\n\u001b[1;32m     10\u001b[0m \u001b[38;5;28;01mtry\u001b[39;00m:\n\u001b[1;32m     11\u001b[0m     do_return \u001b[38;5;241m=\u001b[39m \u001b[38;5;28;01mTrue\u001b[39;00m\n\u001b[0;32m---> 12\u001b[0m     retval_ \u001b[38;5;241m=\u001b[39m ag__\u001b[38;5;241m.\u001b[39mconverted_call(ag__\u001b[38;5;241m.\u001b[39mld(torch)\u001b[38;5;241m.\u001b[39msoftmax, (ag__\u001b[38;5;241m.\u001b[39mconverted_call(ag__\u001b[38;5;241m.\u001b[39mconverted_call(ag__\u001b[38;5;241m.\u001b[39mld(\u001b[38;5;28mself\u001b[39m)\u001b[38;5;241m.\u001b[39mmodel, (ag__\u001b[38;5;241m.\u001b[39mld(torch_inputs),), \u001b[38;5;28;01mNone\u001b[39;00m, fscope)[\u001b[38;5;124m'\u001b[39m\u001b[38;5;124mout\u001b[39m\u001b[38;5;124m'\u001b[39m]\u001b[38;5;241m.\u001b[39mpermute, ([\u001b[38;5;241m0\u001b[39m, \u001b[38;5;241m2\u001b[39m, \u001b[38;5;241m3\u001b[39m, \u001b[38;5;241m1\u001b[39m],), \u001b[38;5;28;01mNone\u001b[39;00m, fscope),), \u001b[38;5;28mdict\u001b[39m(dim\u001b[38;5;241m=\u001b[39m\u001b[38;5;241m-\u001b[39m\u001b[38;5;241m1\u001b[39m), fscope)\n\u001b[1;32m     13\u001b[0m \u001b[38;5;28;01mexcept\u001b[39;00m:\n\u001b[1;32m     14\u001b[0m     do_return \u001b[38;5;241m=\u001b[39m \u001b[38;5;28;01mFalse\u001b[39;00m\n",
      "\u001b[0;31mTypeError\u001b[0m: in user code:\n\n    File \"/opt/anaconda3/envs/lung_env/lib/python3.10/site-packages/xplique/commons/operators_operations.py\", line 168, in gradient  *\n        scores = operator(model, inputs, targets)\n    File \"/opt/anaconda3/envs/lung_env/lib/python3.10/site-packages/xplique/commons/operators.py\", line 93, in semantic_segmentation_operator  *\n        scores = model(inputs) * targets\n    File \"/var/folders/dh/h5slh_zs525fbsjj29cgqmth0000gn/T/ipykernel_9377/492652786.py\", line 14, in __call__  *\n        dim=-1)\n\n    TypeError: Only integers, slices (`:`), ellipsis (`...`), tf.newaxis (`None`) and scalar tf.int32/tf.int64 tensors are valid indices, got 'out'\n"
     ]
    }
   ],
   "source": [
    "from xplique.attributions import (Saliency, GradientInput, IntegratedGradients, SmoothGrad, VarGrad, SquareGrad,\n",
    "                                  Occlusion, Rise, SobolAttributionMethod, HsicAttributionMethod)\n",
    "\n",
    "from xplique.plots import plot_attributions\n",
    "\n",
    "img_tf = tf.convert_to_tensor(img, dtype=tf.float32)\n",
    "mask_tf = tf.convert_to_tensor(mask, dtype=tf.float32)\n",
    "\n",
    "explainers = {\n",
    "    Saliency: {},\n",
    "    # GradientInput: {},\n",
    "    # IntegratedGradients: {\"steps\": 20},\n",
    "    # SmoothGrad: {\"nb_samples\": 50, \"noise\": 0.75},\n",
    "    # VarGrad: {\"nb_samples\": 50, \"noise\": 0.75},\n",
    "    # SquareGrad: {\"nb_samples\": 100, \"noise\": 0.5},\n",
    "    Occlusion: {\"patch_size\": 40, \"patch_stride\": 10, \"occlusion_value\": 0},\n",
    "    Rise: {\"nb_samples\": 4000, \"grid_size\": 13},\n",
    "    # SobolAttributionMethod: {\"nb_design\": 32, \"grid_size\": 13},\n",
    "    # HsicAttributionMethod: {\"nb_design\": 1500, \"grid_size\": 13}\n",
    "}\n",
    "\n",
    "explanations = {}\n",
    "for explainer_class, params in explainers.items():\n",
    "    torch.cuda.empty_cache()\n",
    "    print(explainer_class.__name__)\n",
    "\n",
    "    # instanciate explainer\n",
    "    explainer = explainer_class(segmentation_model, operator=xplique.Tasks.SEMANTIC_SEGMENTATION,\n",
    "                                batch_size=1, **params)\n",
    "\n",
    "    # compute explanations\n",
    "    explanation = explainer(img, mask)\n",
    "\n",
    "    # show explanations for a method\n",
    "    plot_attributions(explanation, images_with_masks,\n",
    "                      img_size=4., cols=images.shape[0],\n",
    "                      cmap='jet', alpha=0.3, absolute_value=False, clip_percentile=0.5)\n",
    "    plt.show()\n",
    "\n",
    "    # keep explanations in memory for metrics\n",
    "    explanations[explainer_class.__name__] = explanation"
   ]
  },
  {
   "cell_type": "code",
   "execution_count": null,
   "id": "7bbbddeb",
   "metadata": {},
   "outputs": [],
   "source": [
    "from xplique.metrics import Deletion, MuFidelity, Insertion, AverageStability\n",
    "from xplique.plots.metrics import barplot\n",
    "\n",
    "metrics = {}\n",
    "\n",
    "# -------------------- MuFidelity's nb_samples was reduced for memory needs\n",
    "# explanations metrics\n",
    "explanations_metrics = {\n",
    "    Deletion: {\"baseline_mode\": 0, \"steps\": 10, \"max_percentage_perturbed\": 0.5},\n",
    "    MuFidelity: {\"baseline_mode\": 0, \"nb_samples\": 5, \"subset_percent\":0.2, \"grid_size\": 13},\n",
    "    Insertion: {\"baseline_mode\": 0, \"steps\": 10, \"max_percentage_perturbed\": 0.5}\n",
    "}\n",
    "for metric_class, params in explanations_metrics.items():\n",
    "    torch.cuda.empty_cache()\n",
    "    # instanciate the metric\n",
    "    metric = metric_class(wrapped_model, np.array(inputs[:3]), np.array(targets[:3]),\n",
    "                          operator=xplique.Tasks.SEMANTIC_SEGMENTATION,\n",
    "                          activation=\"softmax\", batch_size=BATCH_SIZE, **params)\n",
    "\n",
    "    # iterate on methods explanations\n",
    "    metrics[metric_class.__name__] = {}\n",
    "    for method, explanation in explanations.items():\n",
    "        metrics[metric_class.__name__][method] = metric(explanation[:3])\n",
    "\n",
    "# # ----------------- Not included for computation cost reason\n",
    "# # explainer metrics\n",
    "# metric = AverageStability(wrapped_model, inputs[:3], targets[:3], batch_size=BATCH_SIZE,\n",
    "#                           nb_samples=20, radius=0.1, distance=\"l2\")\n",
    "# metrics[\"AverageStability\"] = {}\n",
    "# for explainer_class, params in explainers.items():\n",
    "#     torch.cuda.empty_cache()\n",
    "\n",
    "#     # instanciate explainer\n",
    "#     explainer = explainer_class(wrapped_model, operator=xplique.Tasks.SEMANTIC_SEGMENTATION,\n",
    "#                                 batch_size=BATCH_SIZE, **params)\n",
    "\n",
    "#     metrics[\"AverageStability\"][explainer_class.__name__] = metric.evaluate(explainer)\n",
    "\n",
    "barplot(metrics, sort_metric=\"Deletion\", ascending=\"True\")\n",
    "plt.show()"
   ]
  }
 ],
 "metadata": {
  "kernelspec": {
   "display_name": "lung_env",
   "language": "python",
   "name": "python3"
  },
  "language_info": {
   "codemirror_mode": {
    "name": "ipython",
    "version": 3
   },
   "file_extension": ".py",
   "mimetype": "text/x-python",
   "name": "python",
   "nbconvert_exporter": "python",
   "pygments_lexer": "ipython3",
   "version": "3.10.17"
  }
 },
 "nbformat": 4,
 "nbformat_minor": 5
}
