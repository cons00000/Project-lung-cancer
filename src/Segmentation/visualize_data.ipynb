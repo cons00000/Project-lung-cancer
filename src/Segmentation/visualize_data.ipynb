{
 "cells": [
  {
   "cell_type": "code",
   "execution_count": 2,
   "id": "97329c40",
   "metadata": {},
   "outputs": [],
   "source": [
    "import napari\n",
    "import nrrd  # from the pynrrd package\n",
    "\n",
    "# Path to your files\n",
    "nrrd_file_path_image = '/Users/constance/Documents/Project_lung_cancer/NIH dataset_raw/Processed/04-04-2007-NA-Chest-07990_(DL)/image.nrrd'  # Chemin vers l'image CT\n",
    "nrrd_file_path_mask = '/Users/constance/Documents/Project_lung_cancer/NIH dataset_raw/Processed/04-04-2007-NA-Chest-07990_(DL)/DL_mask.nrrd'  # Chemin vers le masque\n",
    "\n",
    "# Lire les fichiers NRRD\n",
    "data_image, header_image = nrrd.read(nrrd_file_path_image)\n",
    "data_mask, header_mask = nrrd.read(nrrd_file_path_mask)\n",
    "\n",
    "# Lancer napari et afficher les images\n",
    "viewer = napari.Viewer()\n",
    "\n",
    "# Ajouter l'image CT (en utilisant des niveaux de gris)\n",
    "viewer.add_image(data_image, name='CT Image', blending='additive')\n",
    "\n",
    "# Ajouter le masque (en ajustant la transparence)\n",
    "viewer.add_image(data_mask, name='DL Mask', blending='additive', opacity=0.5)\n",
    "\n",
    "napari.run()\n"
   ]
  }
 ],
 "metadata": {
  "kernelspec": {
   "display_name": "pyqt_env",
   "language": "python",
   "name": "python3"
  },
  "language_info": {
   "codemirror_mode": {
    "name": "ipython",
    "version": 3
   },
   "file_extension": ".py",
   "mimetype": "text/x-python",
   "name": "python",
   "nbconvert_exporter": "python",
   "pygments_lexer": "ipython3",
   "version": "3.10.17"
  }
 },
 "nbformat": 4,
 "nbformat_minor": 5
}
